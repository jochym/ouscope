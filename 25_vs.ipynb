{
 "cells": [
  {
   "cell_type": "code",
   "execution_count": null,
   "id": "3d9faf71-b0d4-44e2-904a-f47d57277e05",
   "metadata": {},
   "outputs": [],
   "source": [
    "#| default_exp vs"
   ]
  },
  {
   "cell_type": "code",
   "execution_count": null,
   "id": "5c423467-ec2e-43a9-a8c2-60a1c47ff904",
   "metadata": {},
   "outputs": [],
   "source": [
    "#| hide\n",
    "from nbdev.showdoc import *\n",
    "from nbdev import *"
   ]
  },
  {
   "cell_type": "code",
   "execution_count": null,
   "id": "b2fc5a3c-3947-48e2-8290-6f1a7feb5e91",
   "metadata": {},
   "outputs": [],
   "source": [
    "#| hide\n",
    "#| exporti\n",
    "from fastcore.basics import patch"
   ]
  },
  {
   "cell_type": "code",
   "execution_count": null,
   "id": "c9d30e1e-782b-460c-9fdf-76810cdbdd96",
   "metadata": {},
   "outputs": [],
   "source": [
    "#| export\n",
    "import sys\n",
    "import mechanicalsoup\n",
    "from lxml import etree\n",
    "from math import sqrt\n",
    "from ouscope.core import Telescope\n",
    "import datetime"
   ]
  },
  {
   "cell_type": "code",
   "execution_count": null,
   "id": "a1a67f87-989e-4578-8750-ed297f9725e9",
   "metadata": {},
   "outputs": [],
   "source": [
    "#| exporti\n",
    "mech = mechanicalsoup.StatefulBrowser(soup_config={'features': 'lxml'})"
   ]
  },
  {
   "cell_type": "code",
   "execution_count": null,
   "id": "1fc1b91f-074f-44b3-aff7-918084d2cac7",
   "metadata": {},
   "outputs": [],
   "source": [
    "#| exporti\n",
    "def prtMag(m):\n",
    "    m=m.split()\n",
    "    if m[0]=='-' :\n",
    "        return None\n",
    "    v=float(m[0])\n",
    "    try :\n",
    "        e=float(m[1][1:-1])\n",
    "    except ValueError:\n",
    "        e=0.0\n",
    "    return '%f/%f' % (v,e)\n",
    "\n",
    "dsgn=['u', 'b', 'v', 'rc', 'ic']"
   ]
  },
  {
   "cell_type": "code",
   "execution_count": null,
   "id": "dbecbe89-c289-4a38-a52a-066ae5a81b71",
   "metadata": {},
   "outputs": [],
   "source": [
    "#| export\n",
    "def get_VS_sequence(vs, fov=60, maglimit=17, DEBUG = False):\n",
    "    #fov*=sqrt(2)\n",
    "    url=\"http://www.aavso.org/cgi-bin/vsp.pl?name=%s&ccdtable=on&fov=%d\" % (\"%20\".join(vs.split()),fov)\n",
    "    url=\"https://www.aavso.org/apps/vsp/photometry/?fov=%.1f&star=%s&Rc=on&B=on&maglimit=%.1f\" % ( fov,\n",
    "            '+'.join(vs.split()), maglimit)\n",
    "    page = mech.open(url)\n",
    "    html = ''.join([str(ln) for ln in page.soup])\n",
    "    page.close()\n",
    "    parser=etree.HTMLParser()\n",
    "    #tree=etree.parse(open('rcp/sekw.html'),parser)\n",
    "    tree=etree.fromstring(html,parser)\n",
    "\n",
    "    try :\n",
    "        var=' '.join(tree.xpath('//p//strong//text()')[0].split()[1:])\n",
    "        ra=tree.xpath('//p//strong//text()')[1].split()[0]\n",
    "        dec=tree.xpath('//p//strong//text()')[2].split()[0]\n",
    "        seq=tree.xpath('//p//strong//text()')[3]\n",
    "    except IndexError :\n",
    "        #print('Cannot get AAVSO sequence for', vs)\n",
    "        return None, None\n",
    "\n",
    "    stars=[]\n",
    "\n",
    "    if DEBUG :\n",
    "        print('\\nSequence %s for: %s ( ra: %s  dec: %s )' % (seq, var, ra, dec), file=sys.stderr)\n",
    "\n",
    "    for tab in tree.xpath('//table//tbody')[0:1]:\n",
    "        #print >> sys.stderr, 'Sequence:', seq\n",
    "        for row in tab.xpath('./tr')[1:-2]:\n",
    "            c=row.xpath('./td/text()')\n",
    "            auid=c[0]\n",
    "            lbl=row.xpath('./td/strong/text()')[0]\n",
    "            ra=c[1].split()[0]\n",
    "            ra_flt=float(c[1].split()[1][1:-2])\n",
    "            dec=c[2].split()[0]\n",
    "            dec_flt=float(c[2].split()[1][1:-2])\n",
    "            #print(c, file=sys.stderr)\n",
    "            #print(auid, lbl, ra, ra_flt, dec, dec_flt, file=sys.stderr)\n",
    "    #        for d,m in zip(dsgn, (c[4], c[5], c[6], c[8], c[9])):\n",
    "    #            s=prtMag(m)\n",
    "    #            if s :\n",
    "    #                print '%s=%s' % (d,s),\n",
    "            #print c[-1]\n",
    "            stars.append([auid, lbl, ra, ra_flt, dec, dec_flt] +\n",
    "                        [v  for v in c[3:7]])\n",
    "            #print c\n",
    "            #print lbl, \"ID:%s U:%s B:%s V:%s Rc:%s Ic:%s Cmnt:%s\" %(c[0], c[4], c[5], c[6], c[8], c[9],c[-1])\n",
    "\n",
    "    #print(' ', seq, fov, file=sys.stderr)\n",
    "    return seq, stars"
   ]
  },
  {
   "cell_type": "code",
   "execution_count": null,
   "id": "68460896-1806-49d8-8df8-0a27abe07725",
   "metadata": {},
   "outputs": [
    {
     "name": "stdout",
     "output_type": "stream",
     "text": [
      "Sequence: X35373AOJ (8 stars) for SS Cyg:\n",
      "000-BCP-217 ( 96) 10.653 (0.097)  9.630 (0.081)  1.023 (0.126)  9.091 (0.094) \n",
      "000-BCP-198 ( 98) 10.162 (0.080)  9.794 (0.071)  0.368 (0.107)  9.601 (0.071) \n",
      "000-BCP-194 (103) 10.712 (0.094) 10.279 (0.073)  0.433 (0.119)              — \n",
      "000-BCP-224 (108) 10.954 (0.110) 10.831 (0.080)  0.123 (0.136)              — \n",
      "000-BCP-202 (109) 11.451 (0.032) 10.898 (0.027)  0.553 (0.042) 10.591 (0.027) \n",
      "000-BCP-241 (114) 12.038 (0.032) 11.413 (0.026)  0.625 (0.041) 11.051 (0.033) \n",
      "000-BCP-207 (119) 12.486 (0.019) 11.866 (0.015)  0.620 (0.024) 11.507 (0.019) \n",
      "000-BDC-473 (123) 12.898 (0.021) 12.279 (0.020)  0.619 (0.029) 11.937 (0.024) \n"
     ]
    }
   ],
   "source": [
    "VS = 'SS Cyg'\n",
    "seq = get_VS_sequence(VS, 30, 16.5)\n",
    "\n",
    "print(f'Sequence: {seq[0]} ({len(seq[1])} stars) for {VS}:')\n",
    "for s in seq[1]:\n",
    "    print(f'{s[0]} ({s[1]:>3})', end=' ')\n",
    "    for v in s[6:]:\n",
    "        print(f'{v:>14}', end=' ')\n",
    "    print()"
   ]
  },
  {
   "cell_type": "code",
   "execution_count": null,
   "id": "9aacae0f-ae08-438c-b805-749a95592a35",
   "metadata": {},
   "outputs": [],
   "source": [
    "#| export\n",
    "@patch\n",
    "def submitVarStar(self: Telescope, name, expos=90, filt='BVR',comm='', tele='COAST'):\n",
    "    o=SkyCoord.from_name(name)\n",
    "    return self.submit_job_api(o, name=name, comment=comm,\n",
    "                            exposure=expos*1000, filt=filt, tele=tele)"
   ]
  },
  {
   "cell_type": "code",
   "execution_count": null,
   "id": "a78c9b4c-8223-4a9c-95f8-1848f806753a",
   "metadata": {},
   "outputs": [],
   "source": [
    "#| login\n",
    "if False :\n",
    "    print(\"Submitting a VS job\")\n",
    "    rq = OSO.submitVarStar('V1223 Sgr', expos=180)\n",
    "    if rq[0] :\n",
    "        print(\"Waiting for job to be accepted\")\n",
    "        while (status:=OSO.get_request(int(rq[1]))['status'])!='Waiting' :\n",
    "            print(status, end='\\r')\n",
    "            sys.stdout.flush()\n",
    "            time.sleep(15)\n",
    "        print(status)\n",
    "        print(\"Cancelling the job\")\n",
    "        OSO.do_rm_api(\"0-cancel-request\", {'rid':int(rq[1])})\n",
    "        print(\"Waiting for job to be cancelled\")\n",
    "        while 'pending cancel' in (status:=OSO.get_request(int(rq[1]))['status']):\n",
    "            print(status, end='\\r')\n",
    "            sys.stdout.flush()\n",
    "            time.sleep(15)\n",
    "        print(status)\n",
    "    else :\n",
    "        print('Submission failed')"
   ]
  },
  {
   "cell_type": "code",
   "execution_count": null,
   "id": "2a0697bb-cfb4-4862-bc96-3ddee8d5eb7f",
   "metadata": {},
   "outputs": [],
   "source": [
    "#| login\n",
    "scope=Telescope(config='~/.config/telescope.ini')"
   ]
  },
  {
   "cell_type": "code",
   "execution_count": null,
   "id": "c79125b8-7ab9-4ae1-ae70-278577d42392",
   "metadata": {},
   "outputs": [
    {
     "name": "stdout",
     "output_type": "stream",
     "text": [
      "object       request time        id           status\n",
      "LX Cyg       2023-12-08 22:51:03 759783       Waiting\n",
      "CH Cyg       2023-12-08 22:51:02 759780       Waiting\n",
      "DX Vul       2023-12-08 22:51:02 759782       Waiting\n",
      "SS Cyg       2023-12-08 22:51:02 759781       Waiting\n",
      "EQ Lyr       2023-12-07 22:36:16 759658       Complete\n",
      "DQ Vul       2023-12-07 22:16:53 759655       Complete\n",
      "IP Cyg       2023-12-07 22:16:52 759653       Complete\n",
      "V686 Cyg     2023-12-07 22:16:52 759654       Complete\n",
      "LX Cyg       2023-12-04 10:41:24 759483       Complete\n",
      "EQ Lyr       2023-12-03 22:45:58 759452       Complete\n",
      "DQ Vul       2023-12-03 22:45:58 759451       Complete\n",
      "DX Vul       2023-12-03 22:45:57 759450       Complete\n",
      "IP Cyg       2023-12-03 22:45:57 759448       Complete\n",
      "V686 Cyg     2023-12-03 22:45:57 759449       Complete\n",
      "SS Cyg       2023-12-03 22:45:57 759447       Complete\n",
      "CH Cyg       2023-12-03 22:45:56 759446       Complete\n",
      "LX Cyg       2023-11-30 09:58:45 759188       Complete\n",
      "SS Cyg       2023-11-28 23:07:23 759066       Complete\n",
      "CH Cyg       2023-11-28 21:52:27 759065       Complete\n",
      "DX Vul       2023-11-28 21:20:04 759064       Complete\n"
     ]
    }
   ],
   "source": [
    "#| login\n",
    "reqlst=scope.get_user_requests(sort='completion')\n",
    "print(f\"{'object':12} {'request time':19} {'id':12} {'status'}\")\n",
    "for rq in sorted(reqlst, key=lambda r: int(r['requesttime']), reverse=True)[:20]:\n",
    "    print(f\"{rq['objectname']:12}\", \n",
    "          f\"{datetime.datetime.fromtimestamp(int(rq['requesttime']))}\",\n",
    "          f\"{rq['id']:12}\",\n",
    "          f\"{Telescope.REQUESTSTATUS_TEXTS[int(rq['status'])]}\"\n",
    "         )"
   ]
  },
  {
   "cell_type": "code",
   "execution_count": null,
   "id": "700f9fce-12f3-4597-8b55-a42d535a6c45",
   "metadata": {},
   "outputs": [],
   "source": []
  }
 ],
 "metadata": {
  "kernelspec": {
   "display_name": "python3",
   "language": "python",
   "name": "python3"
  }
 },
 "nbformat": 4,
 "nbformat_minor": 5
}
