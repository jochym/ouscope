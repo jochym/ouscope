{
 "cells": [
  {
   "cell_type": "code",
   "execution_count": null,
   "id": "8fbf0df1-8b79-4f6e-9df4-93fb1708ca2f",
   "metadata": {},
   "outputs": [],
   "source": [
    "#| default_exp solver"
   ]
  },
  {
   "cell_type": "markdown",
   "id": "34d0fc4b-e38b-4a45-948d-1f980dae9a16",
   "metadata": {},
   "source": [
    "# solver\n",
    "\n",
    "> Field solver module - thin layer over other field solver services."
   ]
  },
  {
   "cell_type": "code",
   "execution_count": null,
   "id": "c2784bfc-dc7e-4cf4-b05f-9547942d5070",
   "metadata": {},
   "outputs": [],
   "source": [
    "#| hide\n",
    "from nbdev.showdoc import *\n",
    "from nbdev import *"
   ]
  },
  {
   "cell_type": "code",
   "execution_count": null,
   "id": "b3013be4-0481-48e6-a83b-30d8c0c17765",
   "metadata": {},
   "outputs": [],
   "source": [
    "#| export\n",
    "import configparser\n",
    "import logging\n",
    "from fastcore.basics import patch\n",
    "from os.path import expanduser\n",
    "import os, tempfile, shutil\n",
    "from io import StringIO, BytesIO\n",
    "from astroquery.exceptions import TimeoutError as ASTTimeoutError\n",
    "from astropy.time import Time\n",
    "from astropy.io import fits\n",
    "from astropy.coordinates import SkyCoord, Longitude, Latitude\n",
    "from astropy.wcs import WCS\n",
    "from ouscope.core import Telescope\n",
    "import ouscope.util as ousutil"
   ]
  },
  {
   "cell_type": "code",
   "execution_count": null,
   "id": "30fc4717-fc80-44ce-bf3e-ff1cf75b16ec",
   "metadata": {},
   "outputs": [],
   "source": [
    "#| export\n",
    "class Solver:\n",
    "    '''\n",
    "    Wrapper of AstrometryNet solver from astropy tuned for the use in osob use.\n",
    "    '''\n",
    "    \n",
    "    _cmd = 'solve-field'\n",
    "    _args = '-p -l %d -O -L %d -H %d -u app -3 %f -4 %f -5 2 %s'\n",
    "    _telescopes={\n",
    "        'galaxy':   (1,2),\n",
    "        'cluster':  (14,16),\n",
    "        'coast': (1, 2),\n",
    "        'pirate': (1, 2),\n",
    "        '10micron': (1, 2),\n",
    "        'cdk17': (1, 2),\n",
    "        'unknown': (1,16),\n",
    "        'undefined': (1,16),\n",
    "        \"'undefined'\": (1,16),\n",
    "    }\n",
    "\n",
    "    \n",
    "    def __init__(self, api_key=None, cache='.cache/wcs', cmd=None, args=None):\n",
    "        if cmd is None:\n",
    "            self._cmd = Solver._cmd\n",
    "        else:\n",
    "            self._cmd = cmd\n",
    "        if args is None:\n",
    "            self._args = Solver._args\n",
    "        else:\n",
    "            self._args = args\n",
    "        self._cmd = ' '.join((self._cmd, self._args))\n",
    "        self.ast = None\n",
    "        self.api_key = api_key\n",
    "        if api_key:\n",
    "            from astroquery.astrometry_net import AstrometryNet\n",
    "            self.ast = AstrometryNet()    \n",
    "            self.ast.api_key = api_key\n",
    "        self._cache = cache\n",
    "        self._tout = 15"
   ]
  },
  {
   "cell_type": "code",
   "execution_count": null,
   "id": "16b18969-91b8-4a5e-990b-7d785bda6f4b",
   "metadata": {},
   "outputs": [],
   "source": [
    "#| export\n",
    "@patch\n",
    "def solve(self: Solver, hdu, crop=(slice(0,-32), slice(0,-32)), force_solve=False, tout=None):\n",
    "    '''\n",
    "    Solve plate in fits format using local (if present) or \n",
    "    remote (not fully implemented yet) AstrometryNet solver\n",
    "    '''\n",
    "    loger = logging.getLogger(__name__)\n",
    "    if hdu.verify_datasum()!=1:\n",
    "        hdu.add_datasum()\n",
    "    fn = f'{int(hdu.header[\"DATASUM\"]):08X}.wcs'\n",
    "    fp = os.path.join(self._cache,fn[0],fn[1],fn)\n",
    "    if force_solve or not os.path.isfile(fp) :\n",
    "        loger.info(f'Solving for {fn[:-4]}')\n",
    "        print(f'Solving for {fn[:-4]}')\n",
    "        s = self._solveField_local(hdu, tout=tout)\n",
    "        if s:\n",
    "            wcs_header = fits.Header(s.header)\n",
    "            #wcs_header['NAXIS'] = 2\n",
    "            #wcs_header['NAXIS1'] = wcs_header['IMAGEW']\n",
    "            #wcs_header['NAXIS2'] = wcs_header['IMAGEH']\n",
    "            os.makedirs(os.path.dirname(fp), exist_ok=True)\n",
    "            with open(fp, 'w') as fh:\n",
    "                wcs_header.totextfile(fp)\n",
    "        else:\n",
    "            wcs_header = None\n",
    "    else :\n",
    "        loger.info(f'Getting {fn[:-4]} from cache')\n",
    "        print(f'Getting {fn[:-4]} from cache')\n",
    "        with open(fp, 'r') as fh:\n",
    "            wcs_header = fits.Header.fromtextfile(fh)        \n",
    "    return wcs_header"
   ]
  },
  {
   "cell_type": "code",
   "execution_count": null,
   "id": "a08b89be-740b-4226-b140-4615b398e696",
   "metadata": {},
   "outputs": [],
   "source": [
    "#| export\n",
    "@patch\n",
    "def _getFrameRaDec(self: Solver, hdu):\n",
    "    if 'OBJCTRA' in hdu.header:\n",
    "        ra=hdu.header['OBJCTRA']\n",
    "        dec=hdu.header['OBJCTDEC']\n",
    "    elif 'MNTRA' in hdu.header :\n",
    "        ra=hdu.header['MNTRA']\n",
    "        dec=hdu.header['MNTDEC']\n",
    "    elif 'RA-TEL' in hdu.header :\n",
    "        ra=hdu.header['RA-TEL']\n",
    "        dec=hdu.header['DEC-TEL']\n",
    "    else :\n",
    "        raise KeyError\n",
    "\n",
    "    try :\n",
    "        eq=Time(hdu.header['EQUINOX'], format='decimalyear')\n",
    "    except KeyError :\n",
    "        eq=Time(2000, format='decimalyear')\n",
    "\n",
    "    o=SkyCoord(Longitude(ra, unit='hour'),\n",
    "               Latitude(dec, unit='deg'),\n",
    "               frame='icrs', obstime=hdu.header['DATE-OBS'],\n",
    "               equinox=eq)\n",
    "    return o\n"
   ]
  },
  {
   "cell_type": "code",
   "execution_count": null,
   "id": "3108d115-ca0b-433f-9484-f689bc155947",
   "metadata": {},
   "outputs": [],
   "source": [
    "#| export\n",
    "@patch\n",
    "def _solveField_local(self: Solver, hdu, tout=None, cleanup=True):\n",
    "    '''\n",
    "    Run local solver for hdu.\n",
    "    '''\n",
    "    loger = logging.getLogger(__name__)\n",
    "    o=self._getFrameRaDec(hdu)\n",
    "    ra=o.ra.deg\n",
    "    dec=o.dec.deg\n",
    "\n",
    "    try :\n",
    "        tel = hdu.header['TELESCOP'].lower()\n",
    "    except KeyError:\n",
    "        tel = 'unknown'\n",
    "        hdu.header.remove('TELESCOP')\n",
    "        hdu.header['TELESCOP'] = tel\n",
    "\n",
    "    if hdu.header['TELESCOP']==\"'undefined'\":\n",
    "        tel = 'unknown'\n",
    "        hdu.header.remove('TELESCOP')\n",
    "        hdu.header['TELESCOP'] = tel        \n",
    "        \n",
    "    if 'brt' in tel:\n",
    "        tel=tel.split()[1]\n",
    "    else :\n",
    "        tel=tel.split()[0]\n",
    "\n",
    "    loapp, hiapp=Solver._telescopes[tel]\n",
    "    td=tempfile.mkdtemp(prefix='field-solver')\n",
    "    try :\n",
    "        fn=tempfile.mkstemp(dir=td, suffix='.fits')\n",
    "        loger.debug(td, fn)\n",
    "        #print(fn[1], hdu.header['TELESCOP'])\n",
    "        hdu.writeto(fn[1])\n",
    "        cmd = self._cmd % (self._tout if tout is None else tout,\n",
    "                           loapp, hiapp, ra, dec, fn[1])\n",
    "        loger.debug(cmd)\n",
    "        print(cmd)\n",
    "        solver=os.popen(cmd)\n",
    "        for ln in solver:\n",
    "            loger.debug(ln.strip())\n",
    "        shdu=fits.open(BytesIO(open(fn[1][:-5]+'.new','rb').read()))\n",
    "        return shdu[0]\n",
    "    except IOError :\n",
    "        return None\n",
    "    finally :\n",
    "        if cleanup :\n",
    "            shutil.rmtree(td)\n"
   ]
  },
  {
   "cell_type": "code",
   "execution_count": null,
   "id": "356afb13-e091-4406-a96d-8cd59626aeb9",
   "metadata": {},
   "outputs": [],
   "source": [
    "#| login\n",
    "config = configparser.ConfigParser()\n",
    "config.read(expanduser('~/.config/telescope.ini'))\n",
    "solver = Solver(config['astrometry.net']['apikey'])\n",
    "\n",
    "scope=Telescope(config='~/.config/telescope.ini')"
   ]
  },
  {
   "cell_type": "code",
   "execution_count": null,
   "id": "42608dd9-7b72-4db2-b16b-c0a0ebd506cd",
   "metadata": {},
   "outputs": [
    {
     "name": "stdout",
     "output_type": "stream",
     "text": [
      "id: 759658\n",
      "seen: 1\n",
      "usercomments: Mira\n",
      "objecttype: RADEC\n",
      "objectid: 19:19:02.60 +41:06:34.24\n",
      "objectname: EQ Lyr\n",
      "requesttime: 1701984976\n",
      "status: 8\n",
      "row: 26\n",
      "\n",
      "rid: 759658\n",
      "jid: 412679\n",
      "type: RADEC\n",
      "oid: 19:19:02.60 +41:06:34.24\n",
      "name: EQ Lyr\n",
      "exp: 180000 ms\n",
      "filter: BVR\n",
      "dark: Instant\n",
      "tele_type: Galaxy\n",
      "tele: COAST\n",
      "requested: ['7', 'December', '2023', '21:36:16', 'UTC']\n",
      "completion: ['9', 'December', '2023', '19:36:32', 'UTC']\n",
      "status: Complete\n"
     ]
    }
   ],
   "source": [
    "#| login\n",
    "reqlst=scope.get_user_requests(sort='completion')\n",
    "for rq in sorted(reqlst, key=lambda r: int(r['requesttime']), reverse=True):\n",
    "    if Telescope.REQUESTSTATUS_TEXTS[int(rq['status'])]=='Complete':\n",
    "        break\n",
    "ousutil.print_dict(rq)\n",
    "print()\n",
    "ousutil.print_dict(scope.get_request(int(rq['id'])))\n",
    "last_complete = int(scope.get_request(int(rq['id']))['jid'])"
   ]
  },
  {
   "cell_type": "code",
   "execution_count": null,
   "id": "8c88e0ce-9a52-48d6-9ae0-39403f6cc44b",
   "metadata": {},
   "outputs": [
    {
     "name": "stdout",
     "output_type": "stream",
     "text": [
      "412679 --> .cache/jobs/4/1/412679.fits\n",
      "Getting A1E36A92 from cache\n",
      "WCS Keywords\n",
      "\n",
      "Number of WCS axes: 2\n",
      "CTYPE : 'RA---TAN-SIP' 'DEC--TAN-SIP' \n",
      "CRVAL : 290.135756976 41.0252130636 \n",
      "CRPIX : 153.755741119 558.506164551 \n",
      "CD1_1 CD1_2  : -0.000466761461958 -3.93688498768e-06 \n",
      "CD2_1 CD2_2  : -3.88592965771e-06 0.000466462440999 \n",
      "NAXIS : 1536  1536  3\n"
     ]
    },
    {
     "name": "stderr",
     "output_type": "stream",
     "text": [
      "WARNING: FITSFixedWarning: EPOCH = 'REAL' \n",
      "a floating-point value was expected. [astropy.wcs.wcs]\n",
      "WARNING: FITSFixedWarning: RADECSYS= 'ICRS' \n",
      "the RADECSYS keyword is deprecated, use RADESYSa. [astropy.wcs.wcs]\n"
     ]
    }
   ],
   "source": [
    "#| login\n",
    "ffn = scope.get_obs(scope.get_job(last_complete)).name\n",
    "print(last_complete, '-->', ffn)\n",
    "hdu = fits.open(ffn, cube=True, verbose=True)[0]\n",
    "\n",
    "s_hdu = solver.solve(hdu)\n",
    "\n",
    "assert s_hdu\n",
    "\n",
    "w = WCS(s_hdu, naxis=2)\n",
    "w.printwcs()"
   ]
  },
  {
   "cell_type": "code",
   "execution_count": null,
   "id": "8a01c15e-b992-4689-92ef-91ff307813c7",
   "metadata": {},
   "outputs": [
    {
     "name": "stdout",
     "output_type": "stream",
     "text": [
      "Solving..........WCS Keywords\n",
      "\n",
      "Number of WCS axes: 2\n",
      "CTYPE : 'RA---TAN-SIP' 'DEC--TAN-SIP' \n",
      "CRVAL : 289.79342685 41.2102280398 \n",
      "CRPIX : 702.608161926 961.371337891 \n",
      "CD1_1 CD1_2  : -0.000466545685512 -5.13583974664e-06 \n",
      "CD2_1 CD2_2  : -5.88360704449e-06 0.000465741808602 \n",
      "NAXIS : 0  0\n"
     ]
    },
    {
     "name": "stderr",
     "output_type": "stream",
     "text": [
      "WARNING: FITSFixedWarning: The WCS transformation has more axes (2) than the image it is associated with (0) [astropy.wcs.wcs]\n"
     ]
    }
   ],
   "source": [
    "#| login\n",
    "#| slow\n",
    "hd = solver.ast.solve_from_image(ffn, force_image_upload=True)\n",
    "WCS(hd, naxis=2).printwcs()"
   ]
  },
  {
   "cell_type": "code",
   "execution_count": null,
   "id": "2337f043-2480-4a47-bedb-8c60b6a1c6b9",
   "metadata": {},
   "outputs": [],
   "source": []
  }
 ],
 "metadata": {
  "kernelspec": {
   "display_name": "python3",
   "language": "python",
   "name": "python3"
  }
 },
 "nbformat": 4,
 "nbformat_minor": 5
}
