{
 "cells": [
  {
   "cell_type": "code",
   "execution_count": null,
   "metadata": {},
   "outputs": [],
   "source": [
    "#| hide\n",
    "from nbdev import *"
   ]
  },
  {
   "cell_type": "markdown",
   "metadata": {},
   "source": [
    "# OUScope\n",
    "\n",
    "> The `ouscope` is a library providing python interface to the Open University Autonomous Robotic Telescope facility at telescope.org"
   ]
  },
  {
   "cell_type": "markdown",
   "metadata": {},
   "source": [
    "The library provides access and control for the telescope. The functions help with job submission, image retrival and initial analysis. For naw this is aimed at variable star observations, but there is nothing prohibiting additional modules intended for different fields (e.g. astrometry)."
   ]
  },
  {
   "cell_type": "markdown",
   "metadata": {},
   "source": [
    "## Install"
   ]
  },
  {
   "cell_type": "markdown",
   "metadata": {},
   "source": [
    "### From PyPI"
   ]
  },
  {
   "cell_type": "markdown",
   "metadata": {},
   "source": [
    "`pip install ouscope`"
   ]
  },
  {
   "cell_type": "markdown",
   "metadata": {},
   "source": [
    "### From conda"
   ]
  },
  {
   "cell_type": "markdown",
   "metadata": {},
   "source": [
    "`conda install ouscaope`"
   ]
  },
  {
   "cell_type": "markdown",
   "metadata": {},
   "source": [
    "## How to use"
   ]
  },
  {
   "cell_type": "markdown",
   "metadata": {},
   "source": [
    "The library is not ready but you can try to use it for some tasks. Here is a simple example."
   ]
  },
  {
   "cell_type": "code",
   "execution_count": null,
   "metadata": {},
   "outputs": [
    {
     "name": "stdout",
     "output_type": "stream",
     "text": [
      "User folders:\n",
      "       Inbox (  1): 1700 items\n",
      "  Favourites (  2):    0 items\n",
      "     Archive (  3):  447 items\n",
      "       Trash (  4):   63 items\n",
      "    Complete (461):   13 items\n",
      "User jochym has 1700 requests.\n",
      "The most recent completed requests:\n",
      "759483: LX Cyg          jid: 412518\n",
      "759452: EQ Lyr          jid: 412488\n",
      "759451: DQ Vul          jid: 412487\n",
      "759450: DX Vul          jid: 412486\n",
      "759449: V686 Cyg        jid: 412485\n",
      "759448: IP Cyg          jid: 412484\n",
      "759447: SS Cyg          jid: 412483\n",
      "759446: CH Cyg          jid: 412482\n",
      "759188: LX Cyg          jid: 412243\n",
      "759066: SS Cyg          jid: 412131\n",
      "759065: CH Cyg          jid: 412130\n"
     ]
    }
   ],
   "source": [
    "#| login\n",
    "from ouscope.core import Telescope\n",
    "import configparser\n",
    "from os.path import expanduser\n",
    "\n",
    "config = configparser.ConfigParser()\n",
    "config.read(expanduser('~/.config/telescope.ini'))\n",
    "\n",
    "scope=Telescope(config['telescope.org']['user'], \n",
    "              config['telescope.org']['password'])\n",
    "\n",
    "print(\"User folders:\")\n",
    "for f in scope.get_user_folders():\n",
    "    cnt = f[\"count\"] \n",
    "    if cnt is None:\n",
    "        cnt = 0\n",
    "    print(f'{f[\"name\"]:>12} ({f[\"id\"]:>3}): {cnt:>4} items')\n",
    "\n",
    "reqlst=scope.get_user_requests(sort='rid')\n",
    "\n",
    "print(f'User {scope.user} has {len(reqlst)} requests.')\n",
    "print(\"The most recent completed requests:\")\n",
    "\n",
    "n = 10\n",
    "for rq in reqlst:\n",
    "    if rq[\"status\"]=='8':\n",
    "        print(f'{rq[\"id\"]}: {rq[\"objectname\"]:15} jid: {scope.get_jid_for_req(rq)}')\n",
    "        n -= 1\n",
    "    if n<0 :\n",
    "        break\n",
    "\n",
    "scope.logout()"
   ]
  },
  {
   "cell_type": "code",
   "execution_count": null,
   "metadata": {},
   "outputs": [],
   "source": []
  }
 ],
 "metadata": {
  "kernelspec": {
   "display_name": "python3",
   "language": "python",
   "name": "python3"
  }
 },
 "nbformat": 4,
 "nbformat_minor": 4
}
