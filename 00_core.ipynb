{
 "cells": [
  {
   "cell_type": "code",
   "execution_count": null,
   "metadata": {},
   "outputs": [],
   "source": [
    "#| default_exp core"
   ]
  },
  {
   "cell_type": "markdown",
   "metadata": {},
   "source": [
    "# OUScope\n",
    "\n",
    "> The telescope control is provided through the `Telescope` class which provides state tracking and low level methods - forming a basic API layer. The higher level functions are implemented as separate functions construced with the Telescope class API."
   ]
  },
  {
   "cell_type": "code",
   "execution_count": null,
   "metadata": {},
   "outputs": [],
   "source": [
    "#| hide\n",
    "from nbdev.showdoc import *\n",
    "from nbdev import *\n",
    "from fastcore.basics import patch"
   ]
  },
  {
   "cell_type": "code",
   "execution_count": null,
   "metadata": {},
   "outputs": [],
   "source": [
    "#| exporti\n",
    "import logging\n",
    "import requests\n",
    "from requests import session\n",
    "import configparser\n",
    "from os.path import expanduser\n",
    "import diskcache\n",
    "from bs4 import BeautifulSoup\n",
    "import json\n",
    "import time"
   ]
  },
  {
   "cell_type": "code",
   "execution_count": null,
   "metadata": {},
   "outputs": [],
   "source": [
    "#| exporti\n",
    "def cleanup(s):\n",
    "    return s.encode('ascii','ignore').decode('ascii','ignore')"
   ]
  },
  {
   "cell_type": "code",
   "execution_count": null,
   "metadata": {},
   "outputs": [],
   "source": [
    "#| export\n",
    "class Telescope:\n",
    "    '''\n",
    "    Main API class\n",
    "    '''\n",
    "    \n",
    "    url='https://www.telescope.org/'\n",
    "    cameratypes={\n",
    "        'constellation':'1',\n",
    "        'galaxy':       '2',\n",
    "        'cluster':      '3',\n",
    "        'planet':'5',\n",
    "        'coast':'6',\n",
    "        'pirate':'7',\n",
    "    }\n",
    "\n",
    "    REQUESTSTATUS_TEXTS={\n",
    "        1: \"New\",\n",
    "        2: \"New, allocated\",\n",
    "        3: \"Waiting\",\n",
    "        4: \"In progress\",\n",
    "        5: \"Reallocate\",\n",
    "        6: \"Waiting again\",\n",
    "        7: \"Complete on site\",\n",
    "        8: \"Complete\",\n",
    "        9: \"Hold\",\n",
    "        10: \"Frozen\",\n",
    "        20: \"Expired\",\n",
    "        21: \"Expired w/CJobs\",\n",
    "        22: \"Cancelled\",\n",
    "        23: \"Cancelled w/CJobs\",\n",
    "        24: \"Invalid\",\n",
    "        25: \"Never rises\",\n",
    "        26: \"Other error\",\n",
    "    }\n",
    "    \n",
    "    def __init__(self, user, passwd, cache='.cache/jobs'):\n",
    "        self.s=None\n",
    "        self.user=user\n",
    "        self.passwd=passwd\n",
    "        self.tout=60\n",
    "        self.retry=15\n",
    "        self.login()\n",
    "        self.cache=cache\n"
   ]
  },
  {
   "cell_type": "code",
   "execution_count": null,
   "metadata": {},
   "outputs": [],
   "source": [
    "#| exporti\n",
    "@patch\n",
    "def login(self: Telescope):\n",
    "    log = logging.getLogger(__name__)\n",
    "    payload = {'action': 'login',\n",
    "               'username': self.user,\n",
    "               'password': self.passwd,\n",
    "               'stayloggedin': 'true'}\n",
    "    log.debug('Get session ...')\n",
    "    self.s=session()\n",
    "    log.debug('Logging in ...')\n",
    "    self.s.post(self.url+'login.php', data=payload)"
   ]
  },
  {
   "cell_type": "code",
   "execution_count": null,
   "metadata": {},
   "outputs": [],
   "source": [
    "#| exporti\n",
    "@patch\n",
    "def logout(self: Telescope):\n",
    "    if self.s is None :\n",
    "        self.s.post(self.url+'logout.php')\n",
    "        self.s=None"
   ]
  },
  {
   "cell_type": "code",
   "execution_count": null,
   "metadata": {},
   "outputs": [
    {
     "data": {
      "text/plain": [
       "{'s': <requests.sessions.Session>,\n",
       " 'user': 'jochym',\n",
       " 'passwd': 'uJH5iLqUEuc49ju',\n",
       " 'tout': 60,\n",
       " 'retry': 15,\n",
       " 'cache': '.cache/jobs'}"
      ]
     },
     "execution_count": null,
     "metadata": {},
     "output_type": "execute_result"
    }
   ],
   "source": [
    "#| login\n",
    "config = configparser.ConfigParser()\n",
    "config.read(expanduser('~/.config/telescope.ini'))\n",
    "\n",
    "scope=Telescope(config['telescope.org']['user'],\n",
    "                    config['telescope.org']['password'],\n",
    "                    config['cache']['jobs'])\n",
    "astrometryAPIkey=config['astrometry.net']['apikey']\n",
    "\n",
    "wcscache=diskcache.Cache(config['cache']['wcs'])\n",
    "seqcache=diskcache.Cache(config['cache']['seq'])\n",
    "\n",
    "scope.__dict__"
   ]
  },
  {
   "cell_type": "code",
   "execution_count": null,
   "metadata": {},
   "outputs": [],
   "source": [
    "#| export\n",
    "@patch\n",
    "def get_user_requests(self: Telescope, sort='rid', folder=1):\n",
    "    '''\n",
    "    Get all user requests from folder (Inbox=1 by default),\n",
    "    sorted by sort column ('rid' by default). \n",
    "    Possible sort columns are: 'rid', 'object', 'completion'\n",
    "    The data is returned as a list of dictionaries.\n",
    "    '''\n",
    "\n",
    "    #fetch first batch        \n",
    "    params={\n",
    "        'limit': 100,\n",
    "        'sort': sort,\n",
    "        'folderid': folder}\n",
    "\n",
    "    rq = self.s.post(self.url+\"api-user.php\", {'module': \"request-manager\", \n",
    "                                               'request': \"1-get-list-own\",\n",
    "                                               'params' : json.dumps(params)})\n",
    "    res=[]\n",
    "    dat=json.loads(rq.content)\n",
    "    total=int(dat['data']['totalRequests'])\n",
    "    res+=dat['data']['requests']\n",
    "\n",
    "    # Fetch the rest\n",
    "    params['limit']=total-len(res)\n",
    "    params['startAfterRow']=len(res)\n",
    "    rq = self.s.post(self.url+\"api-user.php\", {'module': \"request-manager\", \n",
    "                                               'request': \"1-get-list-own\",\n",
    "                                               'params' : json.dumps(params)})\n",
    "\n",
    "    dat=json.loads(rq.content)\n",
    "    total=int(dat['data']['totalRequests'])\n",
    "    res+=dat['data']['requests']\n",
    "    return res"
   ]
  },
  {
   "cell_type": "code",
   "execution_count": null,
   "metadata": {},
   "outputs": [
    {
     "name": "stdout",
     "output_type": "stream",
     "text": [
      "User jochym has 1439 requests. Recent few:\n",
      "744748: DX Vul\n",
      "744747: BI Her\n",
      "744746: SS Cyg\n",
      "744745: V1223 Sgr\n",
      "744385: LX Cyg\n",
      "744384: EQ Lyr\n",
      "744383: DQ Vul\n",
      "744382: BI Her\n",
      "744381: V686 Cyg\n",
      "744380: IP Cyg\n"
     ]
    }
   ],
   "source": [
    "#| login\n",
    "rqs = scope.get_user_requests()\n",
    "print(f'User {scope.user} has {len(rqs)} requests. Recent few:')\n",
    "for rq in rqs[:10]:\n",
    "    print(f'{rq[\"id\"]}: {rq[\"objectname\"]}')"
   ]
  },
  {
   "cell_type": "code",
   "execution_count": null,
   "metadata": {},
   "outputs": [],
   "source": [
    "#| export\n",
    "@patch\n",
    "def get_user_folders(self: Telescope):\n",
    "    '''\n",
    "    Get all user folders. Returns list of dictionaries.\n",
    "    '''\n",
    "    rq = self.s.post(self.url+\"api-user.php\", {'module': \"request-manager\", \n",
    "                                               'request': \"0-get-my-folders\"})\n",
    "    return json.loads(rq.content)['data']"
   ]
  },
  {
   "cell_type": "code",
   "execution_count": null,
   "metadata": {},
   "outputs": [
    {
     "data": {
      "text/plain": [
       "[{'id': '1', 'creationtime': '0', 'name': 'Inbox', 'count': '1439'},\n",
       " {'id': '2', 'creationtime': '0', 'name': 'Favourites', 'count': None},\n",
       " {'id': '3', 'creationtime': '0', 'name': 'Archive', 'count': '447'},\n",
       " {'id': '4', 'creationtime': '0', 'name': 'Trash', 'count': '52'},\n",
       " {'id': '461',\n",
       "  'creationtime': '1407254495',\n",
       "  'name': 'Complete',\n",
       "  'count': '13'}]"
      ]
     },
     "execution_count": null,
     "metadata": {},
     "output_type": "execute_result"
    }
   ],
   "source": [
    "#| login\n",
    "scope.get_user_folders()"
   ]
  },
  {
   "cell_type": "code",
   "execution_count": null,
   "metadata": {},
   "outputs": [],
   "source": [
    "#| export\n",
    "@patch\n",
    "def get_obs_list(self: Telescope, t=None, dt=1, filtertype='', camera='', hour=16, minute=0):\n",
    "    '''Get the dt days of observations taken no later then time in t.\n",
    "\n",
    "        Input\n",
    "        ------\n",
    "        t  - end time in seconds from the epoch\n",
    "            (as returned by time.time())\n",
    "        dt - number of days, default to 1\n",
    "        filtertype - filter by type of filter used\n",
    "        camera - filter by the camera/telescope used\n",
    "\n",
    "        Output\n",
    "        ------\n",
    "        Returns a list of JobIDs (int) for the observations.\n",
    "\n",
    "    '''\n",
    "\n",
    "    assert(self.s is not None)\n",
    "\n",
    "    if t is None :\n",
    "        t=time.time()-time.timezone\n",
    "\n",
    "\n",
    "    st=time.gmtime(t-86400*dt)\n",
    "    et=time.gmtime(t)\n",
    "\n",
    "    d=st.tm_mday\n",
    "    m=st.tm_mon\n",
    "    y=st.tm_year\n",
    "    de=et.tm_mday\n",
    "    me=et.tm_mon\n",
    "    ye=et.tm_year\n",
    "\n",
    "    log = logging.getLogger(__name__)\n",
    "    log.debug('%d/%d/%d -> %d/%d/%d', d,m,y,de,me,ye)\n",
    "\n",
    "    try :\n",
    "        telescope=self.cameratypes[camera.lower()]\n",
    "    except KeyError:\n",
    "        telescope=''\n",
    "\n",
    "    searchdat = {\n",
    "        'sort1':'completetime',\n",
    "        'sort1order':'desc',\n",
    "        'searchearliestcom[]':[d, m, y, str(hour),str(minute)],\n",
    "        'searchlatestcom[]':  [de,me,ye,str(hour),str(minute)],\n",
    "        'searchstatus[]':['1'],\n",
    "        'resultsperpage':'1000',\n",
    "        'searchfilter':filtertype,\n",
    "        'searchtelescope':telescope,\n",
    "        'submit':'Go'\n",
    "    }\n",
    "\n",
    "    headers = {'Content-Type': 'application/x-www-form-urlencoded'}\n",
    "\n",
    "\n",
    "    request = self.s.post(self.url+'v3job-search-query.php',\n",
    "                     data=searchdat, headers=headers)\n",
    "    soup = BeautifulSoup(request.text,'lxml')\n",
    "\n",
    "    jlst=[]\n",
    "    for l in soup.findAll('tr'):\n",
    "        try :\n",
    "            a=l.find('a').get('href')\n",
    "        except AttributeError :\n",
    "            continue\n",
    "        jid=a.rfind('jid')\n",
    "        if jid>0 :\n",
    "            jid=a[jid+4:].split('&')[0]\n",
    "            jlst.append(int(jid))\n",
    "    return jlst"
   ]
  },
  {
   "cell_type": "code",
   "execution_count": null,
   "metadata": {},
   "outputs": [
    {
     "data": {
      "text/plain": [
       "[399267, 399206, 399512, 399485, 399484, 399500]"
      ]
     },
     "execution_count": null,
     "metadata": {},
     "output_type": "execute_result"
    }
   ],
   "source": [
    "#| login \n",
    "scope.get_obs_list()"
   ]
  },
  {
   "cell_type": "code",
   "execution_count": null,
   "metadata": {},
   "outputs": [],
   "source": []
  }
 ],
 "metadata": {
  "kernelspec": {
   "display_name": "Python 3 (ipykernel)",
   "language": "python",
   "name": "python3"
  }
 },
 "nbformat": 4,
 "nbformat_minor": 4
}
