{
 "cells": [
  {
   "cell_type": "code",
   "execution_count": null,
   "id": "1bcf2f61-dd45-45d4-b069-06985b504eeb",
   "metadata": {},
   "outputs": [],
   "source": [
    "#| hide\n",
    "#| default_exp util"
   ]
  },
  {
   "cell_type": "markdown",
   "id": "9ea7476c-b4b2-4102-9e7b-706a35eaaf06",
   "metadata": {},
   "source": [
    "# util\n",
    "\n",
    "> Small utility functions for the `ouscope` library."
   ]
  },
  {
   "cell_type": "code",
   "execution_count": null,
   "id": "d09499b2-1dfa-423c-989a-0deabca7bb62",
   "metadata": {},
   "outputs": [],
   "source": [
    "#| export\n",
    "from __future__ import annotations"
   ]
  },
  {
   "cell_type": "code",
   "execution_count": null,
   "id": "18d2f5af-c180-4bdf-9b85-85a09808005f",
   "metadata": {},
   "outputs": [],
   "source": [
    "#| exporti\n",
    "def cleanup(s: str) -> str:\n",
    "    '''\n",
    "    Remove non-asci characters from the string.\n",
    "    '''\n",
    "    return s.encode('ascii','ignore').decode('ascii','ignore')"
   ]
  },
  {
   "cell_type": "code",
   "execution_count": null,
   "id": "e49b0427-5eed-4f46-86fa-db830c80faa1",
   "metadata": {},
   "outputs": [
    {
     "name": "stdout",
     "output_type": "stream",
     "text": [
      "Remove polish diacritics from the string:||\n"
     ]
    }
   ],
   "source": [
    "#| hide\n",
    "assert cleanup('|ążźćńłóęśĄŻŹĆŃŁÓĘŚ|') == '||'\n",
    "print(cleanup('Remove polish diacritics from the string:|ążźćńłóęśĄŻŹĆŃŁÓĘŚ|'))"
   ]
  },
  {
   "cell_type": "code",
   "execution_count": null,
   "id": "6cfdafdc-93b5-4bd7-816c-1ae17ce31b2d",
   "metadata": {},
   "outputs": [],
   "source": []
  }
 ],
 "metadata": {
  "kernelspec": {
   "display_name": "Python 3 (ipykernel)",
   "language": "python",
   "name": "python3"
  }
 },
 "nbformat": 4,
 "nbformat_minor": 5
}
