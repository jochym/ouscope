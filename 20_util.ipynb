{
 "cells": [
  {
   "cell_type": "code",
   "execution_count": null,
   "id": "1bcf2f61-dd45-45d4-b069-06985b504eeb",
   "metadata": {},
   "outputs": [],
   "source": [
    "#| hide\n",
    "#| default_exp util"
   ]
  },
  {
   "cell_type": "markdown",
   "id": "9ea7476c-b4b2-4102-9e7b-706a35eaaf06",
   "metadata": {},
   "source": [
    "# util\n",
    "\n",
    "> Small utility functions for the `ouscope` library."
   ]
  },
  {
   "cell_type": "code",
   "execution_count": null,
   "id": "d09499b2-1dfa-423c-989a-0deabca7bb62",
   "metadata": {},
   "outputs": [],
   "source": [
    "#| export\n",
    "from __future__ import annotations"
   ]
  },
  {
   "cell_type": "code",
   "execution_count": null,
   "id": "1a659e70-489f-4262-8201-a9255e86f70b",
   "metadata": {},
   "outputs": [],
   "source": [
    "#| hide\n",
    "from nbdev.showdoc import *\n",
    "from nbdev import *\n",
    "from fastcore.basics import patch"
   ]
  },
  {
   "cell_type": "code",
   "execution_count": null,
   "id": "fb286495-604d-467b-a236-71f909ec9881",
   "metadata": {},
   "outputs": [],
   "source": [
    "#| exporti\n",
    "import os\n",
    "from fastcore.basics import patch\n",
    "from ouscope.core import Telescope\n",
    "from tqdm.auto import tqdm"
   ]
  },
  {
   "cell_type": "code",
   "execution_count": null,
   "id": "6cfdafdc-93b5-4bd7-816c-1ae17ce31b2d",
   "metadata": {},
   "outputs": [],
   "source": [
    "#| exporti\n",
    "def print_dict(d):\n",
    "    for k, v in d.items():\n",
    "        print(f'{k}: {v}')"
   ]
  },
  {
   "cell_type": "code",
   "execution_count": null,
   "id": "e59387c8-5941-46b8-9c84-4ffd26defb4a",
   "metadata": {},
   "outputs": [],
   "source": [
    "#| login\n",
    "scope=Telescope(config='~/.config/telescope.ini')"
   ]
  },
  {
   "cell_type": "code",
   "execution_count": null,
   "id": "bb00f657-cb9e-4666-8d47-5d6b0fb7f4b6",
   "metadata": {},
   "outputs": [],
   "source": [
    "#| export\n",
    "@patch\n",
    "def get_object_obs(self: Telescope, obj: str):\n",
    "    '''\n",
    "    Find all jobs for a given object.\n",
    "    '''\n",
    "    reqlst=self.get_user_requests(sort='completion')\n",
    "    print(f'Number of users requests: {len(reqlst)}')\n",
    "\n",
    "    complete = [rq for rq in sorted(reqlst, key=lambda r: int(r['requesttime']), reverse=True) \n",
    "                        if Telescope.REQUESTSTATUS_TEXTS[int(rq['status'])]=='Complete']\n",
    "    print('Completed:', len(complete))\n",
    "    objjobs = ((int(self.get_request(int(j['id']))['jid']), int(j['id'])) \n",
    "               for j in complete if j['objectname']==obj)\n",
    "    return objjobs"
   ]
  },
  {
   "cell_type": "code",
   "execution_count": null,
   "id": "404dea4f-44b9-4867-bbca-10fe6078a205",
   "metadata": {},
   "outputs": [],
   "source": [
    "#| login\n",
    "reqlst=scope.get_user_requests(sort='completion')\n",
    "complete = [rq for rq in sorted(reqlst, key=lambda r: int(r['requesttime']), reverse=True) \n",
    "                        if Telescope.REQUESTSTATUS_TEXTS[int(rq['status'])]=='Complete']"
   ]
  },
  {
   "cell_type": "code",
   "execution_count": null,
   "id": "803ec1a5-2286-40c4-8097-126aee3de3f8",
   "metadata": {},
   "outputs": [
    {
     "name": "stdout",
     "output_type": "stream",
     "text": [
      "Number of users requests: 1700\n",
      "Completed: 1679\n",
      "Completed observations of BI Her: 173\n"
     ]
    },
    {
     "data": {
      "application/vnd.jupyter.widget-view+json": {
       "model_id": "a00b4f3eeca5403daeca0cc3fa51da5e",
       "version_major": 2,
       "version_minor": 0
      },
      "text/plain": [
       "  0%|          | 0/173 [00:00<?, ?it/s]"
      ]
     },
     "metadata": {},
     "output_type": "display_data"
    }
   ],
   "source": [
    "#| login\n",
    "\n",
    "# Get all observations of VS\n",
    "VS = 'BI Her'\n",
    "jlist = sorted(list(scope.get_object_obs(VS)))\n",
    "print(f'Completed observations of {VS}: {len(jlist)}')\n",
    "\n",
    "for jid, rid in tqdm(jlist):\n",
    "    # print(f\"R{rid}:J{jid}\")\n",
    "    try :\n",
    "        data = scope.get_obs(scope.get_job(jid), cube=True, verbose=False)\n",
    "        if data :\n",
    "            fp = f'VS/{\"_\".join(VS.split())}'\n",
    "            os.makedirs(fp, exist_ok=True)\n",
    "            fn = f'{jid}'\n",
    "            try :\n",
    "                # print(os.path.abspath(data.name), f'{fp}/{fn}.fits')\n",
    "                os.symlink(os.path.abspath(data.name), f'{fp}/{fn}.fits')\n",
    "            except FileExistsError:\n",
    "                pass\n",
    "            # with open(f'/home/jochym/Astro/VS/{\"_\".join(VS.split())}/{jid}.fits', 'wb') as ff:\n",
    "            #     ff.write(data.read())\n",
    "        else :\n",
    "            print(f'Download of J{jid} failed (no data)')\n",
    "    except TimeoutError:\n",
    "        print(f'Download of J{jid} failed (timeout)')\n",
    "        continue"
   ]
  },
  {
   "cell_type": "code",
   "execution_count": null,
   "id": "fdc5dd0e-7fc8-49b9-b224-535107acfbd3",
   "metadata": {},
   "outputs": [
    {
     "data": {
      "application/vnd.jupyter.widget-view+json": {
       "model_id": "c3314aa2405c4796ae488f0f05920281",
       "version_major": 2,
       "version_minor": 0
      },
      "text/plain": [
       "  0%|          | 0/25 [00:00<?, ?it/s]"
      ]
     },
     "metadata": {},
     "output_type": "display_data"
    }
   ],
   "source": [
    "#| login\n",
    "\n",
    "# get all completed jobs\n",
    "for rq in (pbar := tqdm(complete[:25])):\n",
    "    name = rq['objectname']\n",
    "    rid = int(rq['id'])\n",
    "    pbar.set_postfix_str(name)\n",
    "    try:\n",
    "        jid = int(scope.get_request(rid)['jid'])\n",
    "        data = scope.get_obs(scope.get_job(jid), cube=True, verbose=False)\n",
    "        if data :\n",
    "            fp = f'VS/{\"_\".join(name.split())}'\n",
    "            os.makedirs(fp, exist_ok=True)\n",
    "            fn = f'{jid}'\n",
    "            try :\n",
    "                os.symlink(os.path.abspath(data.name), f'{fp}/{fn}.fits')\n",
    "            except FileExistsError:\n",
    "                pass\n",
    "        else :\n",
    "            print(f'Download of J{jid} failed')\n",
    "    except TimeoutError :\n",
    "        print(f'Download of J{jid} failed, timeout')\n",
    "        pass"
   ]
  },
  {
   "cell_type": "code",
   "execution_count": null,
   "id": "95c74ff2-bd63-4d88-8442-8560e4c6cc39",
   "metadata": {},
   "outputs": [],
   "source": []
  }
 ],
 "metadata": {
  "kernelspec": {
   "display_name": "python3",
   "language": "python",
   "name": "python3"
  }
 },
 "nbformat": 4,
 "nbformat_minor": 5
}
