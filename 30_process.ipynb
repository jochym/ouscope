{
 "cells": [
  {
   "cell_type": "code",
   "execution_count": null,
   "metadata": {},
   "outputs": [],
   "source": [
    "#| default_exp process"
   ]
  },
  {
   "cell_type": "markdown",
   "metadata": {},
   "source": [
    "# process\n",
    "\n",
    "> Image processing submodule (nothing implemented yet)."
   ]
  },
  {
   "cell_type": "code",
   "execution_count": null,
   "metadata": {},
   "outputs": [],
   "source": [
    "#| hide\n",
    "from nbdev.showdoc import *\n",
    "from nbdev import *"
   ]
  },
  {
   "cell_type": "code",
   "execution_count": null,
   "metadata": {},
   "outputs": [
    {
     "name": "stderr",
     "output_type": "stream",
     "text": [
      "WARNING: Astrometry.net API key not found in configuration file [astroquery.astrometry_net.core]\n",
      "WARNING: You need to manually edit the configuration file and add it [astroquery.astrometry_net.core]\n",
      "WARNING: You may also register it for this session with AstrometryNet.key = 'XXXXXXXX' [astroquery.astrometry_net.core]\n"
     ]
    }
   ],
   "source": [
    "#| exporti\n",
    "import configparser\n",
    "from os.path import expanduser\n",
    "from astroquery.astrometry_net import AstrometryNet"
   ]
  },
  {
   "cell_type": "code",
   "execution_count": null,
   "metadata": {},
   "outputs": [
    {
     "name": "stderr",
     "output_type": "stream",
     "text": [
      "WARNING: Astrometry.net API key not found in configuration file [astroquery.astrometry_net.core]\n",
      "WARNING: You need to manually edit the configuration file and add it [astroquery.astrometry_net.core]\n",
      "WARNING: You may also register it for this session with AstrometryNet.key = 'XXXXXXXX' [astroquery.astrometry_net.core]\n"
     ]
    }
   ],
   "source": [
    "#| login\n",
    "config = configparser.ConfigParser()\n",
    "config.read(expanduser('~/.config/telescope.ini'))\n",
    "\n",
    "ast = AstrometryNet()\n",
    "ast.api_key = config['astrometry.net']['apikey']"
   ]
  },
  {
   "cell_type": "code",
   "execution_count": null,
   "metadata": {},
   "outputs": [
    {
     "name": "stdout",
     "output_type": "stream",
     "text": [
      "Solving..........."
     ]
    },
    {
     "data": {
      "text/plain": [
       "(291.403770749, 50.1837177303)"
      ]
     },
     "execution_count": null,
     "metadata": {},
     "output_type": "execute_result"
    }
   ],
   "source": [
    "#| login\n",
    "#| slow\n",
    "hd = ast.solve_from_image('.cache/jobs/4/1/412482.fits', force_image_upload=True)\n",
    " \n",
    "hd['CRVAL1'], hd['CRVAL2']"
   ]
  }
 ],
 "metadata": {
  "kernelspec": {
   "display_name": "python3",
   "language": "python",
   "name": "python3"
  }
 },
 "nbformat": 4,
 "nbformat_minor": 4
}
