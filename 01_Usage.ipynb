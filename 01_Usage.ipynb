{
 "cells": [
  {
   "cell_type": "markdown",
   "id": "c92f7322-e290-40c9-ab15-f5b6b17f46f7",
   "metadata": {},
   "source": [
    "# Usage\n",
    "\n",
    "> The library attempts to provide a stable API to the telescope.org site.  "
   ]
  },
  {
   "cell_type": "code",
   "execution_count": null,
   "id": "ac83b96c-0179-4a1d-a51d-8f6de4a3de54",
   "metadata": {},
   "outputs": [],
   "source": []
  }
 ],
 "metadata": {
  "kernelspec": {
   "display_name": "Python 3 (ipykernel)",
   "language": "python",
   "name": "python3"
  }
 },
 "nbformat": 4,
 "nbformat_minor": 5
}
