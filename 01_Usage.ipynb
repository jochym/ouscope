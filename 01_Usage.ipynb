{
 "cells": [
  {
   "cell_type": "code",
   "execution_count": null,
   "id": "e2ba7138-5c21-4943-a69b-c1c1193d9c3f",
   "metadata": {},
   "outputs": [],
   "source": [
    "#| hide\n",
    "from nbdev import *"
   ]
  },
  {
   "cell_type": "markdown",
   "id": "c92f7322-e290-40c9-ab15-f5b6b17f46f7",
   "metadata": {},
   "source": [
    "# Usage\n",
    "\n",
    "> The library attempts to provide a stable API to the telescope.org site.  "
   ]
  },
  {
   "cell_type": "code",
   "execution_count": null,
   "id": "b9f5ccfd-7758-47d3-8dcd-2a58a4f1f816",
   "metadata": {},
   "outputs": [
    {
     "name": "stdout",
     "output_type": "stream",
     "text": [
      "User folders:\n",
      "       Inbox (  1): 1700 items\n",
      "  Favourites (  2):    0 items\n",
      "     Archive (  3):  447 items\n",
      "       Trash (  4):   63 items\n",
      "    Complete (461):   13 items\n",
      "User jochym has 1700 requests.\n",
      "The most recent completed requests:\n",
      "759483: LX Cyg          jid: 412518\n",
      "759452: EQ Lyr          jid: 412488\n",
      "759451: DQ Vul          jid: 412487\n",
      "759450: DX Vul          jid: 412486\n",
      "759449: V686 Cyg        jid: 412485\n",
      "759448: IP Cyg          jid: 412484\n",
      "759447: SS Cyg          jid: 412483\n",
      "759446: CH Cyg          jid: 412482\n",
      "759188: LX Cyg          jid: 412243\n",
      "759066: SS Cyg          jid: 412131\n",
      "759065: CH Cyg          jid: 412130\n"
     ]
    }
   ],
   "source": [
    "#| login\n",
    "from ouscope.core import Telescope\n",
    "import configparser\n",
    "from os.path import expanduser\n",
    "\n",
    "config = configparser.ConfigParser()\n",
    "config.read(expanduser('~/.config/telescope.ini'))\n",
    "\n",
    "scope=Telescope(config['telescope.org']['user'], \n",
    "              config['telescope.org']['password'])\n",
    "\n",
    "print(\"User folders:\")\n",
    "for f in scope.get_user_folders():\n",
    "    cnt = f[\"count\"] \n",
    "    if cnt is None:\n",
    "        cnt = 0\n",
    "    print(f'{f[\"name\"]:>12} ({f[\"id\"]:>3}): {cnt:>4} items')\n",
    "\n",
    "reqlst=scope.get_user_requests(sort='rid')\n",
    "\n",
    "print(f'User {scope.user} has {len(reqlst)} requests.')\n",
    "print(\"The most recent completed requests:\")\n",
    "\n",
    "n = 10\n",
    "for rq in reqlst:\n",
    "    if rq[\"status\"]=='8':\n",
    "        print(f'{rq[\"id\"]}: {rq[\"objectname\"]:15} jid: {scope.get_jid_for_req(rq)}')\n",
    "        n -= 1\n",
    "    if n<0 :\n",
    "        break\n",
    "\n",
    "scope.logout()"
   ]
  },
  {
   "cell_type": "code",
   "execution_count": null,
   "id": "ed6b8623-5b09-46e2-9aed-2a79aff54345",
   "metadata": {},
   "outputs": [],
   "source": []
  }
 ],
 "metadata": {
  "kernelspec": {
   "display_name": "python3",
   "language": "python",
   "name": "python3"
  }
 },
 "nbformat": 4,
 "nbformat_minor": 5
}
