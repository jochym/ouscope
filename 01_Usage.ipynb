{
 "cells": [
  {
   "cell_type": "code",
   "execution_count": null,
   "id": "e2ba7138-5c21-4943-a69b-c1c1193d9c3f",
   "metadata": {},
   "outputs": [],
   "source": [
    "#| hide\n",
    "from nbdev import *"
   ]
  },
  {
   "cell_type": "markdown",
   "id": "c92f7322-e290-40c9-ab15-f5b6b17f46f7",
   "metadata": {},
   "source": [
    "# Usage\n",
    "\n",
    "> The library attempts to provide a stable API to the telescope.org site.  "
   ]
  },
  {
   "cell_type": "code",
   "execution_count": null,
   "id": "b9f5ccfd-7758-47d3-8dcd-2a58a4f1f816",
   "metadata": {},
   "outputs": [
    {
     "name": "stdout",
     "output_type": "stream",
     "text": [
      "User folders:\n",
      "       Inbox (  1): 1849 items\n",
      "  Favourites (  2):    0 items\n",
      "     Archive (  3):  447 items\n",
      "       Trash (  4):   63 items\n",
      "    Complete (461):   13 items\n",
      "User jochym has 1849 requests.\n",
      "The most recent completed requests:\n",
      "771144: LX Cyg          jid: 422672\n",
      "771143: EQ Lyr          jid: 422671\n",
      "771142: DQ Vul          jid: 422670\n",
      "771141: DX Vul          jid: 422669\n",
      "771139: V686 Cyg        jid: 422667\n",
      "771138: IP Cyg          jid: 422666\n",
      "771137: SS Cyg          jid: 422665\n",
      "771136: CH Cyg          jid: 422664\n",
      "768922: LX Cyg          jid: 420780\n",
      "768921: EQ Lyr          jid: 420779\n",
      "768920: DQ Vul          jid: 420778\n"
     ]
    }
   ],
   "source": [
    "#| login\n",
    "from ouscope.core import Telescope\n",
    "import configparser\n",
    "from os.path import expanduser\n",
    "\n",
    "config = configparser.ConfigParser()\n",
    "config.read(expanduser('~/.config/telescope.ini'))\n",
    "\n",
    "scope=Telescope(config['telescope.org']['user'], \n",
    "              config['telescope.org']['password'])\n",
    "\n",
    "print(\"User folders:\")\n",
    "for f in scope.get_user_folders():\n",
    "    cnt = f[\"count\"] \n",
    "    if cnt is None:\n",
    "        cnt = 0\n",
    "    print(f'{f[\"name\"]:>12} ({f[\"id\"]:>3}): {cnt:>4} items')\n",
    "\n",
    "reqlst=scope.get_user_requests(sort='rid')\n",
    "\n",
    "print(f'User {scope.user} has {len(reqlst)} requests.')\n",
    "print(\"The most recent completed requests:\")\n",
    "\n",
    "n = 10\n",
    "for rq in reqlst:\n",
    "    if rq[\"status\"]=='8':\n",
    "        print(f'{rq[\"id\"]}: {rq[\"objectname\"]:15} jid: {scope.get_jid_for_req(rq)}')\n",
    "        n -= 1\n",
    "    if n<0 :\n",
    "        break\n",
    "\n",
    "scope.logout()"
   ]
  },
  {
   "cell_type": "code",
   "execution_count": null,
   "id": "ed6b8623-5b09-46e2-9aed-2a79aff54345",
   "metadata": {},
   "outputs": [],
   "source": []
  }
 ],
 "metadata": {
  "kernelspec": {
   "display_name": "python3",
   "language": "python",
   "name": "python3"
  }
 },
 "nbformat": 4,
 "nbformat_minor": 5
}
