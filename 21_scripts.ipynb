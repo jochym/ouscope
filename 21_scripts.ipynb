{
 "cells": [
  {
   "cell_type": "code",
   "execution_count": null,
   "id": "887d9854-643e-4de5-8045-8ffdaf2a810c",
   "metadata": {},
   "outputs": [],
   "source": [
    "#| hide\n",
    "#| default_exp scripts"
   ]
  },
  {
   "cell_type": "code",
   "execution_count": null,
   "id": "04966f41-bba5-41d0-b41f-b3ff3f5a2948",
   "metadata": {},
   "outputs": [],
   "source": [
    "from fastcore.basics import patch"
   ]
  }
 ],
 "metadata": {
  "kernelspec": {
   "display_name": "Python 3 (ipykernel)",
   "language": "python",
   "name": "python3"
  }
 },
 "nbformat": 4,
 "nbformat_minor": 5
}
