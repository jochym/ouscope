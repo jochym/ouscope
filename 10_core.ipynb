{
 "cells": [
  {
   "cell_type": "code",
   "execution_count": null,
   "metadata": {},
   "outputs": [],
   "source": [
    "#| hide\n",
    "#| default_exp core"
   ]
  },
  {
   "cell_type": "markdown",
   "metadata": {},
   "source": [
    "# core\n",
    "\n",
    "> The telescope control is provided through the `Telescope` class which provides state tracking and low level methods - forming a basic API layer. The higher level functions are implemented as separate functions construced with the Telescope class API."
   ]
  },
  {
   "cell_type": "code",
   "execution_count": null,
   "metadata": {},
   "outputs": [],
   "source": [
    "#| export\n",
    "from __future__ import annotations"
   ]
  },
  {
   "cell_type": "code",
   "execution_count": null,
   "metadata": {},
   "outputs": [],
   "source": [
    "#| exporti\n",
    "from fastcore.basics import patch\n",
    "\n",
    "import logging\n",
    "import requests\n",
    "from requests import session\n",
    "\n",
    "import configparser\n",
    "import diskcache\n",
    "from bs4 import BeautifulSoup\n",
    "import json\n",
    "import time\n",
    "import os, tempfile, shutil, sys\n",
    "from os import path\n",
    "from os.path import expanduser\n",
    "\n",
    "from zipfile import ZipFile, BadZipFile\n",
    "from io import StringIO, BytesIO\n",
    "from tqdm.auto import tqdm"
   ]
  },
  {
   "cell_type": "code",
   "execution_count": null,
   "metadata": {},
   "outputs": [],
   "source": [
    "#| exporti\n",
    "from ouscope.util import cleanup"
   ]
  },
  {
   "cell_type": "code",
   "execution_count": null,
   "metadata": {},
   "outputs": [],
   "source": [
    "#| export\n",
    "class Telescope:\n",
    "    '''\n",
    "    Main telescope website API class.\n",
    "    '''\n",
    "    \n",
    "    url='https://www.telescope.org/'\n",
    "    cameratypes={\n",
    "        'constellation':'1',\n",
    "        'galaxy':       '2',\n",
    "        'cluster':      '3',\n",
    "        'planet':'5',\n",
    "        'coast':'6',\n",
    "        'pirate':'7',\n",
    "    }\n",
    "\n",
    "    REQUESTSTATUS_TEXTS={\n",
    "        1: \"New\",\n",
    "        2: \"New, allocated\",\n",
    "        3: \"Waiting\",\n",
    "        4: \"In progress\",\n",
    "        5: \"Reallocate\",\n",
    "        6: \"Waiting again\",\n",
    "        7: \"Complete on site\",\n",
    "        8: \"Complete\",\n",
    "        9: \"Hold\",\n",
    "        10: \"Frozen\",\n",
    "        20: \"Expired\",\n",
    "        21: \"Expired w/CJobs\",\n",
    "        22: \"Cancelled\",\n",
    "        23: \"Cancelled w/CJobs\",\n",
    "        24: \"Invalid\",\n",
    "        25: \"Never rises\",\n",
    "        26: \"Other error\",\n",
    "    }\n",
    "    \n",
    "    def __init__(self, user, passwd, cache='.cache/jobs'):\n",
    "        self.s=None\n",
    "        self.user=user\n",
    "        self.passwd=passwd\n",
    "        self.tout=60\n",
    "        self.retry=15\n",
    "        self.login()\n",
    "        self.cache=cache\n"
   ]
  },
  {
   "cell_type": "code",
   "execution_count": null,
   "metadata": {},
   "outputs": [],
   "source": [
    "#| exporti\n",
    "@patch\n",
    "def login(self: Telescope):\n",
    "    '''\n",
    "    Login into the telescope site using credentials initialised in the constructor.\n",
    "    Start and store persistent session with the website.\n",
    "    '''\n",
    "    log = logging.getLogger(__name__)\n",
    "    payload = {'action': 'login',\n",
    "               'username': self.user,\n",
    "               'password': self.passwd,\n",
    "               'stayloggedin': 'true'}\n",
    "    log.debug('Get session ...')\n",
    "    self.s=session()\n",
    "    log.debug('Logging in ...')\n",
    "    self.s.post(self.url+'login.php', data=payload)"
   ]
  },
  {
   "cell_type": "code",
   "execution_count": null,
   "metadata": {},
   "outputs": [],
   "source": [
    "#| exporti\n",
    "@patch\n",
    "def logout(self: Telescope):\n",
    "    '''\n",
    "    Logout and close the session. The stored session data are removed.  \n",
    "    '''\n",
    "    if self.s is None :\n",
    "        self.s.post(self.url+'logout.php')\n",
    "        self.s=None"
   ]
  },
  {
   "cell_type": "markdown",
   "metadata": {},
   "source": [
    "## Preliminary steps\n",
    "\n",
    "All interactions with the telescope site must start with the creation of the session which is handled by the `login` method. The credentials used for the connection are initialised in the `Telescope` class constructor. The constructor calls `login` method as well. After creation the class should be ready for use.\n",
    "\n",
    "Good practice suggests that no credentials should ever be stored inside the code. Here we are using the config file stored in the user directory, outside of the code tree."
   ]
  },
  {
   "cell_type": "code",
   "execution_count": null,
   "metadata": {},
   "outputs": [],
   "source": [
    "#| login\n",
    "config = configparser.ConfigParser()\n",
    "config.read(expanduser('~/.config/telescope.ini'))\n",
    "\n",
    "scope=Telescope(config['telescope.org']['user'],\n",
    "                    config['telescope.org']['password'],\n",
    "                    config['cache']['jobs'])\n",
    "astrometryAPIkey=config['astrometry.net']['apikey']"
   ]
  },
  {
   "cell_type": "code",
   "execution_count": null,
   "metadata": {},
   "outputs": [],
   "source": [
    "#| login\n",
    "#| hide\n",
    "\n",
    "# Cache directories. To be properly re-implemented later.\n",
    "# For now this is lifted from the legacy library\n",
    "wcscache=diskcache.Cache(config['cache']['wcs'])\n",
    "seqcache=diskcache.Cache(config['cache']['seq'])"
   ]
  },
  {
   "cell_type": "markdown",
   "metadata": {},
   "source": [
    "### Basic API calls\n",
    "\n",
    "> These are used internally and are not intended for general use.\n",
    "> * User-API\n",
    "> * Request Manager\n",
    "> * Request Constructor"
   ]
  },
  {
   "cell_type": "code",
   "execution_count": null,
   "metadata": {},
   "outputs": [],
   "source": [
    "#| exporti\n",
    "@patch\n",
    "def do_api_call(self: Telescope, module, req, params=None):\n",
    "    rq = self.s.post(self.url+\"api-user.php\", {'module': module,\n",
    "                                               'request': req,\n",
    "                                               'params': {} if params is None else json.dumps(params)})\n",
    "    return json.loads(rq.content)\n",
    "\n",
    "#| exporti\n",
    "@patch\n",
    "def do_rm_api(self: Telescope, req, params=None):\n",
    "    return self.do_api_call(\"request-manager\", req, params)\n",
    "\n",
    "\n",
    "#| exporti\n",
    "@patch\n",
    "def do_rc_api(self: Telescope, req, params=None):\n",
    "    return self.do_api_call(\"request-constructor\", req, params)"
   ]
  },
  {
   "cell_type": "code",
   "execution_count": null,
   "metadata": {},
   "outputs": [],
   "source": [
    "#| export\n",
    "@patch\n",
    "def get_user_requests(self: Telescope, \n",
    "                      folder: int =1,    # Id of the listed folder. Inbox=1.\n",
    "                      sort : str ='rid', # Name of the sorting colum: 'rid', 'object' or 'completion'\n",
    "                      ) -> list(dict):   # List of dictionaries representing the requests.\n",
    "    '''\n",
    "    Get all user requests from folder (Inbox=1 by default),\n",
    "    sorted by sort column ('rid' by default). \n",
    "    Possible sort columns are: 'rid', 'object', 'completion'\n",
    "    The data is returned as a list of dictionaries.\n",
    "    '''\n",
    "\n",
    "    #fetch first batch        \n",
    "    params={\n",
    "        'limit': 100,\n",
    "        'sort': sort,\n",
    "        'folderid': folder}\n",
    "\n",
    "    rq = self.s.post(self.url+\"api-user.php\", {'module': \"request-manager\", \n",
    "                                               'request': \"1-get-list-own\",\n",
    "                                               'params' : json.dumps(params)})\n",
    "    res=[]\n",
    "    dat=json.loads(rq.content)\n",
    "    total=int(dat['data']['totalRequests'])\n",
    "    res+=dat['data']['requests']\n",
    "\n",
    "    # Fetch the rest\n",
    "    params['limit']=total-len(res)\n",
    "    params['startAfterRow']=len(res)\n",
    "    rq = self.s.post(self.url+\"api-user.php\", {'module': \"request-manager\", \n",
    "                                               'request': \"1-get-list-own\",\n",
    "                                               'params' : json.dumps(params)})\n",
    "\n",
    "    dat=json.loads(rq.content)\n",
    "    total=int(dat['data']['totalRequests'])\n",
    "    res+=dat['data']['requests']\n",
    "    return res"
   ]
  },
  {
   "cell_type": "code",
   "execution_count": null,
   "metadata": {},
   "outputs": [
    {
     "name": "stdout",
     "output_type": "stream",
     "text": [
      "User jochym has 1700 requests. Recent few:\n",
      "759783: LX Cyg          (Waiting)\n",
      "759782: DX Vul          (Waiting)\n",
      "759781: SS Cyg          (Waiting)\n",
      "759780: CH Cyg          (Waiting)\n",
      "759658: EQ Lyr          (Waiting)\n",
      "759655: DQ Vul          (Waiting)\n",
      "759654: V686 Cyg        (Waiting)\n",
      "759653: IP Cyg          (Waiting)\n",
      "759483: LX Cyg          (Complete)\n",
      "759452: EQ Lyr          (Complete)\n"
     ]
    }
   ],
   "source": [
    "#| login\n",
    "reqs = scope.get_user_requests()\n",
    "print(f'User {scope.user} has {len(reqs)} requests. Recent few:')\n",
    "for rq in reqs[:10]:\n",
    "    print(f'{rq[\"id\"]}: {rq[\"objectname\"]:15}'\n",
    "          f' ({Telescope.REQUESTSTATUS_TEXTS[int(rq[\"status\"])]})')"
   ]
  },
  {
   "cell_type": "code",
   "execution_count": null,
   "metadata": {},
   "outputs": [],
   "source": [
    "#| export\n",
    "@patch\n",
    "def get_jid_for_req(self:Telescope, req=None) -> int:\n",
    "    '''\n",
    "    Find and output jobID for the request.\n",
    "    If request is not yet done returns False.\n",
    "\n",
    "    ### Input\n",
    "    \n",
    "    req : request dictionary or requestid\n",
    "\n",
    "    ### Output\n",
    "\n",
    "    JobID if the request is completed, otherwise False\n",
    "    '''\n",
    "    if req is not None:\n",
    "        try: \n",
    "            id = req['id']\n",
    "        except TypeError:\n",
    "            id = req\n",
    "    rq = self.s.post(self.url+\"v4request-view.php?\" + f'rid={id}')\n",
    "    soup = BeautifulSoup(rq.text,'lxml')\n",
    "    for blk in soup.find_all('script'):\n",
    "        if \"var info = \" in blk.text:\n",
    "            for l in  blk.text.split('\\n'):\n",
    "                if \"var info = \" in l:\n",
    "                    l = l[l.find('{'):l.rfind('}')+1]\n",
    "                    return json.loads(l)['jid']\n",
    "    return None"
   ]
  },
  {
   "cell_type": "code",
   "execution_count": null,
   "metadata": {},
   "outputs": [
    {
     "name": "stdout",
     "output_type": "stream",
     "text": [
      "759783: LX Cyg          (Waiting)\n",
      "759782: DX Vul          (Waiting)\n",
      "759781: SS Cyg          (Waiting)\n",
      "759780: CH Cyg          (Waiting)\n",
      "759658: EQ Lyr          (Waiting)\n",
      "759655: DQ Vul          (Waiting)\n",
      "759654: V686 Cyg        (Waiting)\n",
      "759653: IP Cyg          (Waiting)\n",
      "759483: LX Cyg          (Complete)  jid: 412518\n",
      "759452: EQ Lyr          (Complete)  jid: 412488\n"
     ]
    }
   ],
   "source": [
    "#| login\n",
    "for rq in reqs[:10]:\n",
    "    print(f'{rq[\"id\"]}: {rq[\"objectname\"]:15}'\n",
    "          f' ({Telescope.REQUESTSTATUS_TEXTS[int(rq[\"status\"])]})' +\n",
    "          ('  jid: '+scope.get_jid_for_req(rq[\"id\"]) if rq['status']=='8' else ''))"
   ]
  },
  {
   "cell_type": "code",
   "execution_count": null,
   "metadata": {},
   "outputs": [],
   "source": [
    "#| export\n",
    "@patch\n",
    "def get_user_folders(self: Telescope):\n",
    "    '''\n",
    "    Get all user folders. Returns list of dictionaries.\n",
    "    '''\n",
    "    rq = self.s.post(self.url+\"api-user.php\", {'module': \"request-manager\", \n",
    "                                               'request': \"0-get-my-folders\"})\n",
    "    return json.loads(rq.content)['data']"
   ]
  },
  {
   "cell_type": "code",
   "execution_count": null,
   "metadata": {},
   "outputs": [
    {
     "data": {
      "text/plain": [
       "[{'id': '1', 'creationtime': '0', 'name': 'Inbox', 'count': '1700'},\n",
       " {'id': '2', 'creationtime': '0', 'name': 'Favourites', 'count': None},\n",
       " {'id': '3', 'creationtime': '0', 'name': 'Archive', 'count': '447'},\n",
       " {'id': '4', 'creationtime': '0', 'name': 'Trash', 'count': '63'},\n",
       " {'id': '461',\n",
       "  'creationtime': '1407254495',\n",
       "  'name': 'Complete',\n",
       "  'count': '13'}]"
      ]
     },
     "execution_count": null,
     "metadata": {},
     "output_type": "execute_result"
    }
   ],
   "source": [
    "#| login\n",
    "scope.get_user_folders()"
   ]
  },
  {
   "cell_type": "code",
   "execution_count": null,
   "metadata": {},
   "outputs": [],
   "source": [
    "#| export\n",
    "@patch\n",
    "def get_obs_list(self: Telescope, t=None, dt=1, filtertype='', camera='', hour=16, minute=0, verb=False):\n",
    "    '''Get the dt days of observations taken no later then time in t.\n",
    "\n",
    "        ### Input\n",
    "        \n",
    "        t  - end time in seconds from the epoch\n",
    "            (as returned by time.time())\n",
    "        dt - number of days, default to 1\n",
    "        filtertype - filter by type of filter used\n",
    "        camera - filter by the camera/telescope used\n",
    "\n",
    "        ### Output\n",
    "        \n",
    "        Returns a list of JobIDs (int) for the observations.\n",
    "\n",
    "    '''\n",
    "\n",
    "    assert(self.s is not None)\n",
    "\n",
    "    if t is None :\n",
    "        t=time.time()-time.timezone\n",
    "\n",
    "\n",
    "    st=time.gmtime(t-86400*dt)\n",
    "    et=time.gmtime(t)\n",
    "\n",
    "    d=st.tm_mday\n",
    "    m=st.tm_mon\n",
    "    y=st.tm_year\n",
    "    de=et.tm_mday\n",
    "    me=et.tm_mon\n",
    "    ye=et.tm_year\n",
    "\n",
    "    log = logging.getLogger(__name__)\n",
    "    log.debug('%d/%d/%d -> %d/%d/%d', d,m,y,de,me,ye)\n",
    "\n",
    "    try :\n",
    "        telescope=self.cameratypes[camera.lower()]\n",
    "    except KeyError:\n",
    "        telescope=''\n",
    "\n",
    "    searchdat = {\n",
    "        'sort1':'completetime',\n",
    "        'sort1order':'desc',\n",
    "        'searchearliestcom[]':[d, m, y, str(hour),str(minute)],\n",
    "        'searchlatestcom[]':  [de,me,ye,str(hour),str(minute)],\n",
    "        'searchstatus[]':['1'],\n",
    "        'resultsperpage':'1000',\n",
    "        'searchfilter':filtertype,\n",
    "        'searchtelescope':telescope,\n",
    "        'submit':'Go'\n",
    "    }\n",
    "\n",
    "    headers = {'Content-Type': 'application/x-www-form-urlencoded'}\n",
    "\n",
    "\n",
    "    request = self.s.post(self.url+'v3job-search-query.php',\n",
    "                     data=searchdat, headers=headers)\n",
    "    soup = BeautifulSoup(request.text,'lxml')\n",
    "\n",
    "    if verb:\n",
    "        for h in soup.findAll('h3'):\n",
    "            if 'Parameters' in h.text:\n",
    "                print('Params:')\n",
    "                for l in h.find_next_sibling().get_text(strip=True, separator='\\n').splitlines():\n",
    "                    print(l)\n",
    "            elif 'Results' in h.text:\n",
    "                p = h.find_next_sibling()\n",
    "                if 'jobs' in p.text:\n",
    "                    print('Results:')\n",
    "                    for l in h.find_next_sibling().get_text(strip=True, separator='\\n').splitlines():\n",
    "                        print(l)\n",
    "    \n",
    "    jlst=[]\n",
    "    for l in soup.findAll('tr'):\n",
    "        try :\n",
    "            a=l.find('a').get('href')\n",
    "        except AttributeError :\n",
    "            continue\n",
    "        jid=a.rfind('jid')\n",
    "        if jid>0 :\n",
    "            jid=a[jid+4:].split('&')[0]\n",
    "            jlst.append(int(jid))\n",
    "    return jlst"
   ]
  },
  {
   "cell_type": "code",
   "execution_count": null,
   "metadata": {},
   "outputs": [
    {
     "name": "stdout",
     "output_type": "stream",
     "text": [
      "Params:\n",
      "Earliest completion time: 08/12/23 16:00:00\n",
      "Latest completion time: 09/12/23 16:00:59\n",
      "Job status values of:\n",
      "&nbsp - Success\n",
      "Sorted by Completion time in descending order\n",
      "Private jobs excluded\n",
      "1000 results per page\n",
      "412777 ... (116 jobs) ... 412482\n"
     ]
    }
   ],
   "source": [
    "#| login \n",
    "dt = 1\n",
    "while True:\n",
    "    jobs = scope.get_obs_list(dt=dt, verb=False)\n",
    "    if jobs :\n",
    "        break\n",
    "    else :\n",
    "        dt += 1\n",
    "jobs = scope.get_obs_list(dt=dt, verb=True)\n",
    "assert jobs\n",
    "print(jobs[0], f'... ({len(jobs)-2} jobs) ...', jobs[-1])"
   ]
  },
  {
   "cell_type": "code",
   "execution_count": null,
   "metadata": {},
   "outputs": [],
   "source": [
    "#| export\n",
    "@patch\n",
    "def get_job(self: Telescope, jid=None):\n",
    "    '''Get a job data for a given JID'''\n",
    "\n",
    "    assert(jid is not None)\n",
    "    assert(self.s is not None)\n",
    "\n",
    "    log = logging.getLogger(__name__)\n",
    "    log.debug(jid)\n",
    "\n",
    "    obs={}\n",
    "    obs['jid']=jid\n",
    "    rq=self.s.post(self.url+('v3cjob-view.php?jid=%d' % jid))\n",
    "    soup = BeautifulSoup(rq.text, 'lxml')\n",
    "    for l in soup.findAll('tr'):\n",
    "        log.debug(cleanup(l.text))\n",
    "        txt=''\n",
    "        for f in l.findAll('td'):\n",
    "            if txt.find('Object Type') >= 0:\n",
    "                obs['type']=f.text\n",
    "            if txt.find('Object ID') >= 0:\n",
    "                obs['oid']=f.text\n",
    "            if txt.find('Telescope Type Name') >= 0:\n",
    "                obs['tele']=f.text\n",
    "            if txt.find('Filter Type') >= 0:\n",
    "                obs['filter']=f.text\n",
    "            if txt.find('Exposure Time') >= 0:\n",
    "                obs['exp']=f.text\n",
    "            if txt.find('Completion Time') >= 0:\n",
    "                t=f.text.split()\n",
    "                obs['completion']=t[3:6]+[t[6][1:]]+[t[7][:-1]]\n",
    "            if txt.find('Status') >= 0:\n",
    "                obs['status']= (f.text == 'Success')\n",
    "\n",
    "            txt=f.text\n",
    "    log.info('%(jid)d [%(tele)s, %(filter)s, %(status)s]: %(type)s %(oid)s %(exp)s', obs)\n",
    "\n",
    "    return obs"
   ]
  },
  {
   "cell_type": "code",
   "execution_count": null,
   "metadata": {},
   "outputs": [
    {
     "name": "stdout",
     "output_type": "stream",
     "text": [
      "jid: 369256\n",
      "type: RADEC\n",
      "oid: 00:42:58.58 +36:28:18.97\n",
      "exp: 120000 ms\n",
      "filter: BVR\n",
      "tele: Galaxy\n",
      "completion: ['22', 'December', '2020', '23:34:10', 'UTC']\n",
      "status: True\n",
      "{'success': 1, 'status': 'OK_READY', 'data': {'ieID': '1719889', 'flatID': 0}}\n",
      "{'success': 1, 'status': 'READY', 'data': {'flatID': '0', 'fitsbzsize': '8247874', 'fitssize': '0'}}\n"
     ]
    }
   ],
   "source": [
    "#| login\n",
    "obs = scope.get_job(369256)\n",
    "for k, v in obs.items():\n",
    "    print(f'{k}: {v}')\n",
    "\n",
    "rsp1 = scope.do_api_call(\"image-engine\", \"0-create-dlzip\", {'jid': obs['jid'],})\n",
    "print(rsp1)\n",
    "\n",
    "rsp2 = scope.do_api_call(\"image-engine\", \"0-is-job-ready\", {'ieid':rsp1['data']['ieID'],})\n",
    "print(rsp2)"
   ]
  },
  {
   "cell_type": "code",
   "execution_count": null,
   "metadata": {},
   "outputs": [
    {
     "name": "stdout",
     "output_type": "stream",
     "text": [
      "jid: 412482\n",
      "type: RADEC\n",
      "oid: 19:24:33.07 +50:14:29.06\n",
      "exp: 60000 ms\n",
      "filter: BVR\n",
      "tele: Galaxy\n",
      "completion: ['8', 'December', '2023', '19:15:02', 'UTC']\n",
      "status: True\n"
     ]
    }
   ],
   "source": [
    "#| login\n",
    "\n",
    "obs = scope.get_job(jobs[-1])\n",
    "for k, v in obs.items():\n",
    "    print(f'{k}: {v}')"
   ]
  },
  {
   "cell_type": "code",
   "execution_count": null,
   "metadata": {},
   "outputs": [],
   "source": [
    "#| export\n",
    "@patch\n",
    "def download_obs(self: Telescope, obs=None, directory='.', cube=True, pbar=False):\n",
    "    '''Download the raw observation obs (obtained from get_job) into 3D fits\n",
    "    file named jid.fits located in the directory (current by default).\n",
    "    Alternatively, when the cube=False the file will be a zip of 3 fits files.\n",
    "    The name of the file (without directory) is returned.\n",
    "    \n",
    "    The zip API got dropped from telescope.org and it stoped working. \n",
    "    \n",
    "    '''\n",
    "\n",
    "    assert(obs is not None)\n",
    "    assert(self.s is not None)\n",
    "\n",
    "    if not cube:\n",
    "        print('The zip output is no longer supported!')\n",
    "        return None\n",
    "    \n",
    "    chunksize = 1024\n",
    "    rq=self.s.get(self.url+\n",
    "                  ('v3image-download%s.php?jid=%d' %\n",
    "                    ('' if cube else '-layers', obs['jid'])),\n",
    "                  stream=True)\n",
    "    \n",
    "    size = int(rq.headers.get('Content-Length', 0))\n",
    "    tq = None\n",
    "    fn = ('%(jid)d.' % obs) + ('fits' if cube else 'zip')\n",
    "    if pbar :\n",
    "        tq = tqdm(desc=fn,       \n",
    "                  total=size,       \n",
    "                  unit=\"B\",       \n",
    "                  unit_scale=True,        \n",
    "                  leave=True,       \n",
    "                  miniters=1)\n",
    "    \n",
    "    with open(path.join(directory, fn), 'wb') as fd:\n",
    "        for chunk in rq.iter_content(chunksize):\n",
    "            if chunk:\n",
    "                fd.write(chunk)\n",
    "                if tq :\n",
    "                    tq.update(len(chunk))\n",
    "    if tq :\n",
    "        tq.close()\n",
    "    return fn\n"
   ]
  },
  {
   "cell_type": "code",
   "execution_count": null,
   "metadata": {},
   "outputs": [
    {
     "data": {
      "application/vnd.jupyter.widget-view+json": {
       "model_id": "37f2cd16ad614be5beaecdea061d06e1",
       "version_major": 2,
       "version_minor": 0
      },
      "text/plain": [
       "412482.fits:   0%|          | 0.00/14.2M [00:00<?, ?B/s]"
      ]
     },
     "metadata": {},
     "output_type": "display_data"
    },
    {
     "data": {
      "text/plain": [
       "'412482.fits'"
      ]
     },
     "execution_count": null,
     "metadata": {},
     "output_type": "execute_result"
    }
   ],
   "source": [
    "#| login\n",
    "scope.download_obs(obs, directory='OUT', pbar=True)"
   ]
  },
  {
   "cell_type": "code",
   "execution_count": null,
   "metadata": {},
   "outputs": [],
   "source": [
    "#| export\n",
    "@patch\n",
    "def download_obs_api(self: Telescope, obs=None, directory='.', cube=True, pbar=False, verbose=False):\n",
    "    '''Download the raw observation obs (obtained from get_job) into zip\n",
    "    file named job_jid.zip located in the directory (current by default).\n",
    "    Alternatively, when the cube=True the file will be a 3D fits file.\n",
    "    The name of the file (without directory) is returned.'''\n",
    "\n",
    "    assert(obs is not None)\n",
    "    assert(self.s is not None)\n",
    "    \n",
    "    chunksize = 1024\n",
    "    tq = None\n",
    "\n",
    "    rsp = self.do_api_call(\"image-engine\", \n",
    "                           \"0-create-dl\" + (\"3d\" if cube else \"zip\"),\n",
    "                           {'jid': obs['jid']} | ({'flatid': obs['flatid']} if 'flatid' in obs else {}))\n",
    "    ieid = rsp['data']['ieID']\n",
    "\n",
    "    while rsp['status']!='READY' :\n",
    "        if verbose:\n",
    "            print(f\"{rsp['status']:30}\", end='\\n')\n",
    "        time.sleep(1)\n",
    "        rsp = self.do_api_call(\"image-engine\", \"0-is-job-ready\", {'ieid':ieid,})\n",
    "    \n",
    "    if verbose:\n",
    "        print(f\"{rsp['status']:30}\")\n",
    "        sys.stdout.flush()\n",
    "    \n",
    "    rq=self.s.get(self.url+f'v3image-download.php?jid={obs[\"jid\"]}&ieid={ieid}', \n",
    "                  stream=True)\n",
    "\n",
    "    size = int(rq.headers.get('Content-Length', 0))\n",
    "    fn = ('%(jid)d.' % obs) + ('fits' if cube else 'zip')\n",
    "    siz = int(rsp['data']['fitssize' if cube else 'fitsbzsize'])\n",
    "    if pbar :\n",
    "        tq = tqdm(desc=fn,       \n",
    "                  total=size,       \n",
    "                  unit=\"B\",       \n",
    "                  unit_scale=True,        \n",
    "                  leave=True,       \n",
    "                  miniters=1)\n",
    "    \n",
    "    with open(path.join(directory, fn), 'wb') as fd:\n",
    "        for chunk in rq.iter_content(chunksize):\n",
    "            if chunk:\n",
    "                fd.write(chunk)\n",
    "                if tq :\n",
    "                    tq.update(len(chunk))\n",
    "    if tq :\n",
    "        tq.close()\n",
    "    sys.stdout.flush()\n",
    "    if siz==os.stat(path.join(directory, fn)).st_size :\n",
    "        return fn\n",
    "    else:\n",
    "        return None"
   ]
  },
  {
   "cell_type": "code",
   "execution_count": null,
   "metadata": {},
   "outputs": [
    {
     "name": "stdout",
     "output_type": "stream",
     "text": [
      "OK_READY                      \n",
      "READY                         \n"
     ]
    },
    {
     "data": {
      "application/vnd.jupyter.widget-view+json": {
       "model_id": "514afcb9bfbd44e9aa1b111ffaec99b1",
       "version_major": 2,
       "version_minor": 0
      },
      "text/plain": [
       "369256.fits:   0%|          | 0.00/14.2M [00:00<?, ?B/s]"
      ]
     },
     "metadata": {},
     "output_type": "display_data"
    },
    {
     "name": "stdout",
     "output_type": "stream",
     "text": [
      "Removing downloaded file: 369256.fits\n"
     ]
    }
   ],
   "source": [
    "#| login\n",
    "fn = scope.download_obs_api(scope.get_job(369256), directory='/tmp', cube=True, pbar=True, verbose=True)\n",
    "if fn is not None:\n",
    "    print(f'Removing downloaded file: {fn}')\n",
    "    os.unlink(os.path.join('/tmp', fn))\n",
    "else:\n",
    "    print('Download failed')"
   ]
  },
  {
   "cell_type": "code",
   "execution_count": null,
   "metadata": {},
   "outputs": [],
   "source": [
    "#| export\n",
    "@patch\n",
    "def get_obs(self: Telescope, obs=None, cube=True, recurse=True, pbar=False, verbose=False):\n",
    "    '''Get the raw observation obs (obtained from get_job) into zip\n",
    "    file-like object. The function returns ZipFile structure of the\n",
    "    downloaded data.'''\n",
    "\n",
    "    assert(obs is not None)\n",
    "    assert(self.s is not None)\n",
    "\n",
    "    log = logging.getLogger(__name__)\n",
    "\n",
    "    fn = ('%(jid)d.' % obs) + ('fits' if cube else 'zip')\n",
    "    fp = path.join(self.cache,fn[0],fn[1],fn)\n",
    "    if not path.isfile(fp) :\n",
    "        log.info('Getting %s from server', fp)\n",
    "        os.makedirs(path.dirname(fp), exist_ok=True)\n",
    "        self.download_obs_api(obs,path.dirname(fp),cube=cube,pbar=pbar,verbose=verbose)\n",
    "    else :\n",
    "        log.info('Getting %s from cache', fp)\n",
    "    content = open(fp,'rb')\n",
    "    try :\n",
    "        return content if cube else ZipFile(content)\n",
    "    except BadZipFile :\n",
    "        # Probably corrupted download. Try again once.\n",
    "        content.close()\n",
    "        os.remove(fp)\n",
    "        if recurse :\n",
    "            return self.get_obs(obs, cube, False)\n",
    "        else :\n",
    "            return None\n"
   ]
  },
  {
   "cell_type": "code",
   "execution_count": null,
   "metadata": {},
   "outputs": [
    {
     "data": {
      "text/plain": [
       "<_io.BufferedReader name='.cache/jobs/4/1/412482.fits'>"
      ]
     },
     "execution_count": null,
     "metadata": {},
     "output_type": "execute_result"
    }
   ],
   "source": [
    "#| login\n",
    "scope.get_obs(obs, pbar=True)"
   ]
  },
  {
   "cell_type": "code",
   "execution_count": null,
   "metadata": {},
   "outputs": [
    {
     "data": {
      "text/plain": [
       "(<zipfile.ZipFile file=<_io.BufferedReader name='.cache/jobs/3/6/369517.zip'> mode='r'>,\n",
       " <_io.BufferedReader name='.cache/jobs/3/6/369517.fits'>)"
      ]
     },
     "execution_count": null,
     "metadata": {},
     "output_type": "execute_result"
    }
   ],
   "source": [
    "#| login\n",
    "JID = 369517\n",
    "#JID = 369256\n",
    "(scope.get_obs(scope.get_job(JID), cube=False, verbose=True), \n",
    "scope.get_obs(scope.get_job(JID), cube=True, verbose=True),)"
   ]
  },
  {
   "cell_type": "code",
   "execution_count": null,
   "metadata": {},
   "outputs": [],
   "source": [
    "#| export\n",
    "@patch\n",
    "def download_obs_processed(self: Telescope, obs=None, directory='.', cube=False, pbar=False):\n",
    "    '''Download the raw observation obs (obtained from get_job) into zip\n",
    "    file named job_jid.zip located in the directory (current by default).\n",
    "    Alternatively, when the cube=True the file will be a 3D fits file.\n",
    "    The name of the file (without directory) is returned.'''\n",
    "\n",
    "    assert(obs is not None)\n",
    "    assert(self.s is not None)\n",
    "\n",
    "    log = logging.getLogger(__name__)\n",
    "\n",
    "    fn=None\n",
    "\n",
    "    tout=self.tout\n",
    "    tq = None\n",
    "    chunksize = 1024\n",
    " \n",
    "    while tout > 0 :\n",
    "        rq=self.s.get(self.url+\n",
    "                      ('imageengine-request.php?jid=%d&type=%d' %\n",
    "                        (obs['jid'], 1 if cube else 3 )))\n",
    "\n",
    "        soup = BeautifulSoup(rq.text, 'lxml')\n",
    "        dlif=soup.find('iframe')\n",
    "\n",
    "        try :\n",
    "            dl=dlif.get('src')\n",
    "            rq=self.s.get(self.url+dl,stream=True)\n",
    "            size = int(rq.headers.get('Content-Length', 0))\n",
    "            fn = ('art_%(jid)d.' % obs) + ('fits' if cube else 'zip')\n",
    "\n",
    "            if pbar :\n",
    "                tq = tqdm(desc=fn,       \n",
    "                          total=size,       \n",
    "                          unit=\"B\",       \n",
    "                          unit_scale=True,        \n",
    "                          leave=True,       \n",
    "                          miniters=1)\n",
    "\n",
    "            with open(path.join(directory, fn), 'wb') as fd:\n",
    "                for chunk in rq.iter_content(chunksize):\n",
    "                    fd.write(chunk)\n",
    "                    if tq :\n",
    "                        tq.update(len(chunk))\n",
    "                    \n",
    "            if tq: \n",
    "                tq.close()\n",
    "            return fn\n",
    "        except AttributeError :\n",
    "            tout-=self.retry\n",
    "            log.warning('No data. Sleep for %ds ...'%self.retry)\n",
    "            time.sleep(self.retry)\n",
    "\n",
    "    return None\n",
    "\n"
   ]
  },
  {
   "cell_type": "code",
   "execution_count": null,
   "metadata": {},
   "outputs": [
    {
     "data": {
      "application/vnd.jupyter.widget-view+json": {
       "model_id": "7f19227411f445e6b247b88ee0b96167",
       "version_major": 2,
       "version_minor": 0
      },
      "text/plain": [
       "art_412482.fits:   0%|          | 0.00/14.2M [00:00<?, ?B/s]"
      ]
     },
     "metadata": {},
     "output_type": "display_data"
    },
    {
     "name": "stdout",
     "output_type": "stream",
     "text": [
      "art_412482.fits\n"
     ]
    },
    {
     "data": {
      "application/vnd.jupyter.widget-view+json": {
       "model_id": "5e1586bc15054026bda5bf453f26ee42",
       "version_major": 2,
       "version_minor": 0
      },
      "text/plain": [
       "art_412482.zip:   0%|          | 0.00/8.01M [00:00<?, ?B/s]"
      ]
     },
     "metadata": {},
     "output_type": "display_data"
    },
    {
     "name": "stdout",
     "output_type": "stream",
     "text": [
      "art_412482.zip\n"
     ]
    }
   ],
   "source": [
    "#| login\n",
    "print(scope.download_obs_processed(obs, directory='OUT', cube=True, pbar=True))\n",
    "print(scope.download_obs_processed(obs, directory='OUT', cube=False, pbar=True))"
   ]
  },
  {
   "cell_type": "code",
   "execution_count": null,
   "metadata": {},
   "outputs": [],
   "source": [
    "#| export\n",
    "@patch\n",
    "def get_obs_processed(self: Telescope, obs=None, cube=False):\n",
    "    '''Get the raw observation obs (obtained from get_job) into zip\n",
    "    file-like object. The function returns ZipFile structure of the\n",
    "    downloaded data.'''\n",
    "\n",
    "    assert(obs is not None)\n",
    "    assert(self.s is not None)\n",
    "    log = logging.getLogger(__name__)\n",
    "\n",
    "    tout=self.tout\n",
    "       \n",
    "    while tout > 0 :\n",
    "        rq=self.s.get(self.url+\n",
    "                      ('imageengine-request.php?jid=%d&type=%d' %\n",
    "                        (obs['jid'], 1 if cube else 3 )))\n",
    "\n",
    "        soup = BeautifulSoup(rq.text,'lxml')\n",
    "        dlif=soup.find('iframe')\n",
    "        try :\n",
    "            dl=dlif.get('src')\n",
    "            rq=self.s.get(self.url+dl,stream=True)\n",
    "            return BytesIO(rq.content) if cube else ZipFile(BytesIO(rq.content))\n",
    "\n",
    "        except AttributeError :\n",
    "            tout-=self.retry\n",
    "            log.warning('No data. Sleep for %ds ...'%self.retry)\n",
    "            time.sleep(self.retry)\n",
    "\n",
    "    return None\n"
   ]
  },
  {
   "cell_type": "code",
   "execution_count": null,
   "metadata": {},
   "outputs": [
    {
     "data": {
      "text/plain": [
       "<_io.BytesIO>"
      ]
     },
     "execution_count": null,
     "metadata": {},
     "output_type": "execute_result"
    }
   ],
   "source": [
    "#| login\n",
    "scope.get_obs_processed(obs, cube=True)"
   ]
  },
  {
   "cell_type": "code",
   "execution_count": null,
   "metadata": {},
   "outputs": [
    {
     "data": {
      "text/plain": [
       "<zipfile.ZipFile file=<_io.BytesIO object> mode='r'>"
      ]
     },
     "execution_count": null,
     "metadata": {},
     "output_type": "execute_result"
    }
   ],
   "source": [
    "#| login\n",
    "scope.get_obs_processed(obs, cube=False)"
   ]
  },
  {
   "cell_type": "markdown",
   "metadata": {},
   "source": [
    "### Job submission methods\n",
    "\n",
    "> Submission API"
   ]
  },
  {
   "cell_type": "code",
   "execution_count": null,
   "metadata": {},
   "outputs": [],
   "source": [
    "#| export\n",
    "@patch\n",
    "def submit_job_api(self: Telescope, obj, exposure=30000, tele='COAST',\n",
    "                    filt='BVR', darkframe=True,\n",
    "                    name='RaDec object', comment='AutoSubmit'):\n",
    "    assert(self.s is not None)\n",
    "\n",
    "    log = logging.getLogger(__name__)\n",
    "\n",
    "    ra=obj.ra.to_string(unit='hour', sep=':', pad=True, precision=2,\n",
    "                        alwayssign=False)\n",
    "    dec=obj.dec.to_string(sep=':', pad=True, precision=2,\n",
    "                        alwayssign=True)\n",
    "    try :\n",
    "        tele=self.cameratypes[tele.lower()]\n",
    "    except KeyError :\n",
    "        log.warning('Wrong telescope: %d ; selecting COAST(6)', tele)\n",
    "        tele=6\n",
    "\n",
    "    if tele==7 :\n",
    "        if filt=='BVR' : filt='Colour'\n",
    "        if filt=='B' : filt='Blue'\n",
    "        if filt=='V' : filt='Green'\n",
    "        if filt=='R' : filt='Red'\n",
    "    if tele==6 :\n",
    "        if filt=='Colour' : filt='BVR'\n",
    "        if filt=='Blue' : filt='B'\n",
    "        if filt=='Green' : filt='V'\n",
    "        if filt=='Red' : filt='R'\n",
    "\n",
    "    params = {'telescopeid': tele, 'telescopetype': 2,\n",
    "              'exposuretime': exposure, 'filtertype': filt,\n",
    "              'objecttype': 'RADEC', 'objectname': name,\n",
    "              'objectid': ra+' '+dec, 'usercomments': comment }\n",
    "\n",
    "    self.do_rc_api(\"0-rb-clear\")\n",
    "\n",
    "    r = self.do_rc_api(\"0-rb-set\", params)\n",
    "    log.debug('Req data:%s', r)\n",
    "    if r['success'] :\n",
    "        r = self.do_rc_api(\"0-rb-submit\")\n",
    "        log.debug('Submission data:%s', r)\n",
    "    if r['success'] :\n",
    "        return True, r['data']['id']\n",
    "    else :\n",
    "        log.warning('Submission error. Status:%s', r['status'])\n",
    "        return False, r['status']"
   ]
  },
  {
   "cell_type": "code",
   "execution_count": null,
   "metadata": {},
   "outputs": [],
   "source": [
    "#| export\n",
    "@patch\n",
    "def submit_RADEC_job(self: Telescope, obj, exposure=30000, tele='COAST',\n",
    "                    filt='BVR', darkframe=True,\n",
    "                    name='RaDec object', comment='AutoSubmit'):\n",
    "    assert(self.s is not None)\n",
    "\n",
    "    log = logging.getLogger(__name__)\n",
    "\n",
    "    ra=obj.ra.to_string(unit='hour', sep=' ',\n",
    "                        pad=True, precision=2,\n",
    "                        alwayssign=False).split()\n",
    "    dec=obj.dec.to_string(sep=' ',\n",
    "                        pad=True, precision=2,\n",
    "                        alwayssign=True).split()\n",
    "    try :\n",
    "        tele=self.cameratypes[tele.lower()]\n",
    "    except KeyError :\n",
    "        log.warning('Wrong telescope: %d ; selecting COAST(6)', tele)\n",
    "        tele=6\n",
    "\n",
    "    if tele==7 :\n",
    "        if filt=='BVR' : filt='Colour'\n",
    "        if filt=='B' : filt='Blue'\n",
    "        if filt=='V' : filt='Green'\n",
    "        if filt=='R' : filt='Red'\n",
    "    if tele==6 :\n",
    "        if filt=='Colour' : filt='BVR'\n",
    "        if filt=='Blue' : filt='B'\n",
    "        if filt=='Green' : filt='V'\n",
    "        if filt=='Red' : filt='R'\n",
    "\n",
    "    u=self.url+'/request-constructor.php'\n",
    "    r=self.s.get(u+'?action=new')\n",
    "    t=self.extract_ticket(r)\n",
    "    log.debug('GoTo Part 1 (ticket %s)', t)\n",
    "    r=self.s.post(u,data={'ticket':t,'action':'main-go-part1'})\n",
    "    t=self.extract_ticket(r)\n",
    "    log.debug('GoTo RADEC (ticket %s)', t)\n",
    "    r=self.s.post(u,data={'ticket':t,'action':'part1-go-radec'})\n",
    "    t=self.extract_ticket(r)\n",
    "    log.debug('Save RADEC (ticket %s)', t)\n",
    "    r=self.s.post(u,data={'ticket':t,'action':'part1-radec-save',\n",
    "                         'raHours':ra[0],\n",
    "                         'raMins':ra[1],\n",
    "                         'raSecs':ra[2].split('.')[0],\n",
    "                         'raFract':ra[2].split('.')[1],\n",
    "                         'decDegrees':dec[0],\n",
    "                         'decMins':dec[1],\n",
    "                         'decSecs':dec[2].split('.')[0],\n",
    "                         'decFract':dec[2].split('.')[1],\n",
    "                         'newObjectName':name})\n",
    "    t=self.extract_ticket(r)\n",
    "    log.debug('GoTo Part 2 (ticket %s)', t)\n",
    "    r=self.s.post(u,data={'ticket':t,'action':'main-go-part2'})\n",
    "    t=self.extract_ticket(r)\n",
    "    log.debug('Save Telescope (ticket %s)', t)\n",
    "    r=self.s.post(u,data={'ticket':t,\n",
    "                            'action':'part2-save',\n",
    "                            'submittype':'Save',\n",
    "                            'newTelescopeSelection':tele})\n",
    "    t=self.extract_ticket(r)\n",
    "    log.debug('GoTo Part 3 (ticket %s)', t)\n",
    "    r=self.s.post(u,data={'ticket':t,'action':'main-go-part3'})\n",
    "    t=self.extract_ticket(r)\n",
    "    log.debug('Save Exposure (ticket %s)', t)\n",
    "    r=self.s.post(u,data={'ticket':t,\n",
    "                            'action':'part3-save',\n",
    "                            'submittype':'Save',\n",
    "                            'newExposureTime':exposure,\n",
    "                            'newDarkFrame': 1 if darkframe else 0,\n",
    "                            'newFilterSelection':filt,\n",
    "                            'newRequestComments':comment})\n",
    "    t=self.extract_ticket(r)\n",
    "    log.debug('Submit (ticket %s)', t)\n",
    "    r=self.s.post(u,data={'ticket':t, 'action':'main-submit'})\n",
    "    return r"
   ]
  },
  {
   "cell_type": "code",
   "execution_count": null,
   "metadata": {},
   "outputs": [],
   "source": [
    "#| export\n",
    "@patch\n",
    "def submitVarStar(self: Telescope, name, expos=90, filt='BVR',comm='', tele='COAST'):\n",
    "    o=SkyCoord.from_name(name)\n",
    "    return self.submit_job_api(o, name=name, comment=comm,\n",
    "                            exposure=expos*1000, filt=filt, tele=tele)"
   ]
  },
  {
   "cell_type": "code",
   "execution_count": null,
   "metadata": {},
   "outputs": [],
   "source": [
    "#| login\n",
    "scope.logout()"
   ]
  },
  {
   "cell_type": "code",
   "execution_count": null,
   "metadata": {},
   "outputs": [],
   "source": []
  },
  {
   "cell_type": "code",
   "execution_count": null,
   "metadata": {},
   "outputs": [],
   "source": []
  }
 ],
 "metadata": {
  "kernelspec": {
   "display_name": "python3",
   "language": "python",
   "name": "python3"
  }
 },
 "nbformat": 4,
 "nbformat_minor": 4
}
