{
 "cells": [
  {
   "cell_type": "code",
   "execution_count": null,
   "metadata": {},
   "outputs": [],
   "source": [
    "#| hide\n",
    "#| default_exp core\n",
    "from fastcore.basics import patch"
   ]
  },
  {
   "cell_type": "markdown",
   "metadata": {},
   "source": [
    "# core\n",
    "\n",
    "> The telescope control is provided through the `Telescope` class which provides state tracking and low level methods - forming a basic API layer. The higher level functions are implemented as separate functions construced with the Telescope class API."
   ]
  },
  {
   "cell_type": "code",
   "execution_count": null,
   "metadata": {},
   "outputs": [],
   "source": [
    "#| exporti\n",
    "import logging\n",
    "import requests\n",
    "from requests import session\n",
    "import configparser\n",
    "from os.path import expanduser\n",
    "import diskcache\n",
    "from bs4 import BeautifulSoup\n",
    "import json\n",
    "import time\n",
    "import os, tempfile, shutil\n",
    "from os import path\n",
    "from zipfile import ZipFile, BadZipFile\n",
    "from io import StringIO, BytesIO\n",
    "from tqdm.auto import tqdm"
   ]
  },
  {
   "cell_type": "code",
   "execution_count": null,
   "metadata": {},
   "outputs": [],
   "source": [
    "#| exporti\n",
    "def cleanup(s):\n",
    "    return s.encode('ascii','ignore').decode('ascii','ignore')"
   ]
  },
  {
   "cell_type": "code",
   "execution_count": null,
   "metadata": {},
   "outputs": [],
   "source": [
    "#| export\n",
    "class Telescope:\n",
    "    '''\n",
    "    Main API class\n",
    "    '''\n",
    "    \n",
    "    url='https://www.telescope.org/'\n",
    "    cameratypes={\n",
    "        'constellation':'1',\n",
    "        'galaxy':       '2',\n",
    "        'cluster':      '3',\n",
    "        'planet':'5',\n",
    "        'coast':'6',\n",
    "        'pirate':'7',\n",
    "    }\n",
    "\n",
    "    REQUESTSTATUS_TEXTS={\n",
    "        1: \"New\",\n",
    "        2: \"New, allocated\",\n",
    "        3: \"Waiting\",\n",
    "        4: \"In progress\",\n",
    "        5: \"Reallocate\",\n",
    "        6: \"Waiting again\",\n",
    "        7: \"Complete on site\",\n",
    "        8: \"Complete\",\n",
    "        9: \"Hold\",\n",
    "        10: \"Frozen\",\n",
    "        20: \"Expired\",\n",
    "        21: \"Expired w/CJobs\",\n",
    "        22: \"Cancelled\",\n",
    "        23: \"Cancelled w/CJobs\",\n",
    "        24: \"Invalid\",\n",
    "        25: \"Never rises\",\n",
    "        26: \"Other error\",\n",
    "    }\n",
    "    \n",
    "    def __init__(self, user, passwd, cache='.cache/jobs'):\n",
    "        self.s=None\n",
    "        self.user=user\n",
    "        self.passwd=passwd\n",
    "        self.tout=60\n",
    "        self.retry=15\n",
    "        self.login()\n",
    "        self.cache=cache\n"
   ]
  },
  {
   "cell_type": "code",
   "execution_count": null,
   "metadata": {},
   "outputs": [],
   "source": [
    "#| exporti\n",
    "@patch\n",
    "def login(self: Telescope):\n",
    "    log = logging.getLogger(__name__)\n",
    "    payload = {'action': 'login',\n",
    "               'username': self.user,\n",
    "               'password': self.passwd,\n",
    "               'stayloggedin': 'true'}\n",
    "    log.debug('Get session ...')\n",
    "    self.s=session()\n",
    "    log.debug('Logging in ...')\n",
    "    self.s.post(self.url+'login.php', data=payload)"
   ]
  },
  {
   "cell_type": "code",
   "execution_count": null,
   "metadata": {},
   "outputs": [],
   "source": [
    "#| exporti\n",
    "@patch\n",
    "def logout(self: Telescope):\n",
    "    if self.s is None :\n",
    "        self.s.post(self.url+'logout.php')\n",
    "        self.s=None"
   ]
  },
  {
   "cell_type": "code",
   "execution_count": null,
   "metadata": {},
   "outputs": [],
   "source": [
    "#| login\n",
    "config = configparser.ConfigParser()\n",
    "config.read(expanduser('~/.config/telescope.ini'))\n",
    "\n",
    "scope=Telescope(config['telescope.org']['user'],\n",
    "                    config['telescope.org']['password'],\n",
    "                    config['cache']['jobs'])\n",
    "astrometryAPIkey=config['astrometry.net']['apikey']\n",
    "\n",
    "wcscache=diskcache.Cache(config['cache']['wcs'])\n",
    "seqcache=diskcache.Cache(config['cache']['seq'])"
   ]
  },
  {
   "cell_type": "code",
   "execution_count": null,
   "metadata": {},
   "outputs": [],
   "source": [
    "#| export\n",
    "@patch\n",
    "def get_user_requests(self: Telescope, sort='rid', folder=1):\n",
    "    '''\n",
    "    Get all user requests from folder (Inbox=1 by default),\n",
    "    sorted by sort column ('rid' by default). \n",
    "    Possible sort columns are: 'rid', 'object', 'completion'\n",
    "    The data is returned as a list of dictionaries.\n",
    "    '''\n",
    "\n",
    "    #fetch first batch        \n",
    "    params={\n",
    "        'limit': 100,\n",
    "        'sort': sort,\n",
    "        'folderid': folder}\n",
    "\n",
    "    rq = self.s.post(self.url+\"api-user.php\", {'module': \"request-manager\", \n",
    "                                               'request': \"1-get-list-own\",\n",
    "                                               'params' : json.dumps(params)})\n",
    "    res=[]\n",
    "    dat=json.loads(rq.content)\n",
    "    total=int(dat['data']['totalRequests'])\n",
    "    res+=dat['data']['requests']\n",
    "\n",
    "    # Fetch the rest\n",
    "    params['limit']=total-len(res)\n",
    "    params['startAfterRow']=len(res)\n",
    "    rq = self.s.post(self.url+\"api-user.php\", {'module': \"request-manager\", \n",
    "                                               'request': \"1-get-list-own\",\n",
    "                                               'params' : json.dumps(params)})\n",
    "\n",
    "    dat=json.loads(rq.content)\n",
    "    total=int(dat['data']['totalRequests'])\n",
    "    res+=dat['data']['requests']\n",
    "    return res"
   ]
  },
  {
   "cell_type": "code",
   "execution_count": null,
   "metadata": {},
   "outputs": [
    {
     "name": "stdout",
     "output_type": "stream",
     "text": [
      "User jochym has 1505 requests. Recent few:\n",
      "748337: DX Vul\n",
      "748246: LX Cyg\n",
      "748245: SS Cyg\n",
      "747836: DQ Vul\n",
      "747835: DX Vul\n",
      "747819: EQ Lyr\n",
      "747818: V686 Cyg\n",
      "747817: IP Cyg\n",
      "747816: SS Cyg\n",
      "747815: CH Cyg\n"
     ]
    }
   ],
   "source": [
    "#| login\n",
    "reqs = scope.get_user_requests()\n",
    "print(f'User {scope.user} has {len(reqs)} requests. Recent few:')\n",
    "for rq in reqs[:10]:\n",
    "    print(f'{rq[\"id\"]}: {rq[\"objectname\"]}')"
   ]
  },
  {
   "cell_type": "code",
   "execution_count": null,
   "metadata": {},
   "outputs": [],
   "source": [
    "#| export\n",
    "@patch\n",
    "def get_user_folders(self: Telescope):\n",
    "    '''\n",
    "    Get all user folders. Returns list of dictionaries.\n",
    "    '''\n",
    "    rq = self.s.post(self.url+\"api-user.php\", {'module': \"request-manager\", \n",
    "                                               'request': \"0-get-my-folders\"})\n",
    "    return json.loads(rq.content)['data']"
   ]
  },
  {
   "cell_type": "code",
   "execution_count": null,
   "metadata": {},
   "outputs": [
    {
     "data": {
      "text/plain": [
       "[{'id': '1', 'creationtime': '0', 'name': 'Inbox', 'count': '1505'},\n",
       " {'id': '2', 'creationtime': '0', 'name': 'Favourites', 'count': None},\n",
       " {'id': '3', 'creationtime': '0', 'name': 'Archive', 'count': '447'},\n",
       " {'id': '4', 'creationtime': '0', 'name': 'Trash', 'count': '52'},\n",
       " {'id': '461',\n",
       "  'creationtime': '1407254495',\n",
       "  'name': 'Complete',\n",
       "  'count': '13'}]"
      ]
     },
     "execution_count": null,
     "metadata": {},
     "output_type": "execute_result"
    }
   ],
   "source": [
    "#| login\n",
    "scope.get_user_folders()"
   ]
  },
  {
   "cell_type": "code",
   "execution_count": null,
   "metadata": {},
   "outputs": [],
   "source": [
    "#| export\n",
    "@patch\n",
    "def get_obs_list(self: Telescope, t=None, dt=1, filtertype='', camera='', hour=16, minute=0):\n",
    "    '''Get the dt days of observations taken no later then time in t.\n",
    "\n",
    "        ### Input\n",
    "        \n",
    "        t  - end time in seconds from the epoch\n",
    "            (as returned by time.time())\n",
    "        dt - number of days, default to 1\n",
    "        filtertype - filter by type of filter used\n",
    "        camera - filter by the camera/telescope used\n",
    "\n",
    "        ### Output\n",
    "        \n",
    "        Returns a list of JobIDs (int) for the observations.\n",
    "\n",
    "    '''\n",
    "\n",
    "    assert(self.s is not None)\n",
    "\n",
    "    if t is None :\n",
    "        t=time.time()-time.timezone\n",
    "\n",
    "\n",
    "    st=time.gmtime(t-86400*dt)\n",
    "    et=time.gmtime(t)\n",
    "\n",
    "    d=st.tm_mday\n",
    "    m=st.tm_mon\n",
    "    y=st.tm_year\n",
    "    de=et.tm_mday\n",
    "    me=et.tm_mon\n",
    "    ye=et.tm_year\n",
    "\n",
    "    log = logging.getLogger(__name__)\n",
    "    log.debug('%d/%d/%d -> %d/%d/%d', d,m,y,de,me,ye)\n",
    "\n",
    "    try :\n",
    "        telescope=self.cameratypes[camera.lower()]\n",
    "    except KeyError:\n",
    "        telescope=''\n",
    "\n",
    "    searchdat = {\n",
    "        'sort1':'completetime',\n",
    "        'sort1order':'desc',\n",
    "        'searchearliestcom[]':[d, m, y, str(hour),str(minute)],\n",
    "        'searchlatestcom[]':  [de,me,ye,str(hour),str(minute)],\n",
    "        'searchstatus[]':['1'],\n",
    "        'resultsperpage':'1000',\n",
    "        'searchfilter':filtertype,\n",
    "        'searchtelescope':telescope,\n",
    "        'submit':'Go'\n",
    "    }\n",
    "\n",
    "    headers = {'Content-Type': 'application/x-www-form-urlencoded'}\n",
    "\n",
    "\n",
    "    request = self.s.post(self.url+'v3job-search-query.php',\n",
    "                     data=searchdat, headers=headers)\n",
    "    soup = BeautifulSoup(request.text,'lxml')\n",
    "\n",
    "    jlst=[]\n",
    "    for l in soup.findAll('tr'):\n",
    "        try :\n",
    "            a=l.find('a').get('href')\n",
    "        except AttributeError :\n",
    "            continue\n",
    "        jid=a.rfind('jid')\n",
    "        if jid>0 :\n",
    "            jid=a[jid+4:].split('&')[0]\n",
    "            jlst.append(int(jid))\n",
    "    return jlst"
   ]
  },
  {
   "cell_type": "code",
   "execution_count": null,
   "metadata": {},
   "outputs": [
    {
     "name": "stdout",
     "output_type": "stream",
     "text": [
      "[402894, 402772, 402591, 402560, 402933, 402773, 402586, 402563, 402947, 402835, 402848, 402734, 402733, 402732, 402541, 402656, 402797, 402799, 402718, 402730, 402647, 402599, 402340, 402362, 402536, 402376]\n"
     ]
    }
   ],
   "source": [
    "#| login \n",
    "jobs = scope.get_obs_list()\n",
    "print(jobs)"
   ]
  },
  {
   "cell_type": "code",
   "execution_count": null,
   "metadata": {},
   "outputs": [],
   "source": [
    "#| export\n",
    "@patch\n",
    "def get_job(self: Telescope, jid=None):\n",
    "    '''Get a job data for a given JID'''\n",
    "\n",
    "    assert(jid is not None)\n",
    "    assert(self.s is not None)\n",
    "\n",
    "    log = logging.getLogger(__name__)\n",
    "    log.debug(jid)\n",
    "\n",
    "    obs={}\n",
    "    obs['jid']=jid\n",
    "    rq=self.s.post(self.url+('v3cjob-view.php?jid=%d' % jid))\n",
    "    soup = BeautifulSoup(rq.text, 'lxml')\n",
    "    for l in soup.findAll('tr'):\n",
    "        log.debug(cleanup(l.text))\n",
    "        txt=''\n",
    "        for f in l.findAll('td'):\n",
    "            if txt.find('Object Type') >= 0:\n",
    "                obs['type']=f.text\n",
    "            if txt.find('Object ID') >= 0:\n",
    "                obs['oid']=f.text\n",
    "            if txt.find('Telescope Type Name') >= 0:\n",
    "                obs['tele']=f.text\n",
    "            if txt.find('Filter Type') >= 0:\n",
    "                obs['filter']=f.text\n",
    "            if txt.find('Exposure Time') >= 0:\n",
    "                obs['exp']=f.text\n",
    "            if txt.find('Completion Time') >= 0:\n",
    "                t=f.text.split()\n",
    "                obs['completion']=t[3:6]+[t[6][1:]]+[t[7][:-1]]\n",
    "            if txt.find('Status') >= 0:\n",
    "                obs['status']= (f.text == 'Success')\n",
    "\n",
    "            txt=f.text\n",
    "    log.info('%(jid)d [%(tele)s, %(filter)s, %(status)s]: %(type)s %(oid)s %(exp)s', obs)\n",
    "\n",
    "    return obs"
   ]
  },
  {
   "cell_type": "code",
   "execution_count": null,
   "metadata": {},
   "outputs": [
    {
     "name": "stdout",
     "output_type": "stream",
     "text": [
      "{'jid': 402772, 'type': 'NGC', 'oid': '271', 'exp': '120000 ms', 'filter': 'Clear', 'tele': 'Galaxy', 'completion': ['5', 'December', '2022', '22:09:30', 'UTC'], 'status': True}\n"
     ]
    }
   ],
   "source": [
    "#| login\n",
    "job = scope.get_job(jobs[1])\n",
    "print(job)"
   ]
  },
  {
   "cell_type": "code",
   "execution_count": null,
   "metadata": {},
   "outputs": [],
   "source": [
    "#| export\n",
    "@patch\n",
    "def download_obs(self: Telescope, obs=None, directory='.', cube=True, pbar=False):\n",
    "    '''Download the raw observation obs (obtained from get_job) into 3D fits\n",
    "    file named jid.fits located in the directory (current by default).\n",
    "    Alternatively, when the cube=False the file will be a zip of 3 fits files.\n",
    "    The name of the file (without directory) is returned.\n",
    "    \n",
    "    The zip API got dropped from telescope.org and it stoped working. \n",
    "    \n",
    "    '''\n",
    "\n",
    "    assert(obs is not None)\n",
    "    assert(self.s is not None)\n",
    "\n",
    "    if not cube:\n",
    "        print('The zip output is no longer supported!')\n",
    "        return None\n",
    "    \n",
    "    chunksize = 1024\n",
    "    rq=self.s.get(self.url+\n",
    "                  ('v3image-download%s.php?jid=%d' %\n",
    "                    ('' if cube else '-layers', obs['jid'])),\n",
    "                  stream=True)\n",
    "    \n",
    "    size = int(rq.headers.get('Content-Length', 0))\n",
    "    tq = None\n",
    "    fn = ('%(jid)d.' % obs) + ('fits' if cube else 'zip')\n",
    "    if pbar :\n",
    "        tq = tqdm(desc=fn,       \n",
    "                  total=size,       \n",
    "                  unit=\"B\",       \n",
    "                  unit_scale=True,        \n",
    "                  leave=True,       \n",
    "                  miniters=1)\n",
    "    \n",
    "    with open(path.join(directory, fn), 'wb') as fd:\n",
    "        for chunk in rq.iter_content(chunksize):\n",
    "            if chunk:\n",
    "                fd.write(chunk)\n",
    "                if tq :\n",
    "                    tq.update(len(chunk))\n",
    "    if tq :\n",
    "        tq.close()\n",
    "    return fn\n"
   ]
  },
  {
   "cell_type": "code",
   "execution_count": null,
   "metadata": {},
   "outputs": [
    {
     "data": {
      "application/vnd.jupyter.widget-view+json": {
       "model_id": "01576d17c103496092872b787abcf22f",
       "version_major": 2,
       "version_minor": 0
      },
      "text/plain": [
       "402772.fits:   0%|          | 0.00/4.73M [00:00<?, ?B/s]"
      ]
     },
     "metadata": {},
     "output_type": "display_data"
    },
    {
     "data": {
      "text/plain": [
       "'402772.fits'"
      ]
     },
     "execution_count": null,
     "metadata": {},
     "output_type": "execute_result"
    }
   ],
   "source": [
    "#| login\n",
    "scope.download_obs(job, directory='OUT', pbar=True)"
   ]
  },
  {
   "cell_type": "code",
   "execution_count": null,
   "metadata": {},
   "outputs": [],
   "source": [
    "#| export\n",
    "@patch\n",
    "def get_obs(self: Telescope, obs=None, cube=True, recurse=True, pbar=False):\n",
    "    '''Get the raw observation obs (obtained from get_job) into zip\n",
    "    file-like object. The function returns ZipFile structure of the\n",
    "    downloaded data.'''\n",
    "\n",
    "    assert(obs is not None)\n",
    "    assert(self.s is not None)\n",
    "\n",
    "    log = logging.getLogger(__name__)\n",
    "\n",
    "    fn = ('%(jid)d.' % obs) + ('fits' if cube else 'zip')\n",
    "    fp = path.join(self.cache,fn[0],fn[1],fn)\n",
    "    if not path.isfile(fp) :\n",
    "        log.info('Getting %s from server', fp)\n",
    "        os.makedirs(path.dirname(fp), exist_ok=True)\n",
    "        self.download_obs(obs,path.dirname(fp),cube=cube,pbar=pbar)\n",
    "    else :\n",
    "        log.info('Getting %s from cache', fp)\n",
    "    content = open(fp,'rb')\n",
    "    try :\n",
    "        return content if cube else ZipFile(content)\n",
    "    except BadZipFile :\n",
    "        # Probably corrupted download. Try again once.\n",
    "        content.close()\n",
    "        os.remove(fp)\n",
    "        if recurse :\n",
    "            return self.get_obs(obs, cube, False)\n",
    "        else :\n",
    "            return None\n"
   ]
  },
  {
   "cell_type": "code",
   "execution_count": null,
   "metadata": {},
   "outputs": [
    {
     "data": {
      "text/plain": [
       "<_io.BufferedReader name='.cache/jobs/4/0/402772.fits'>"
      ]
     },
     "execution_count": null,
     "metadata": {},
     "output_type": "execute_result"
    }
   ],
   "source": [
    "#| login\n",
    "scope.get_obs(job, pbar=True)"
   ]
  },
  {
   "cell_type": "code",
   "execution_count": null,
   "metadata": {},
   "outputs": [],
   "source": [
    "#| export\n",
    "@patch\n",
    "def download_obs_processed(self: Telescope, obs=None, directory='.', cube=False, pbar=False):\n",
    "    '''Download the raw observation obs (obtained from get_job) into zip\n",
    "    file named job_jid.zip located in the directory (current by default).\n",
    "    Alternatively, when the cube=True the file will be a 3D fits file.\n",
    "    The name of the file (without directory) is returned.'''\n",
    "\n",
    "    assert(obs is not None)\n",
    "    assert(self.s is not None)\n",
    "\n",
    "    log = logging.getLogger(__name__)\n",
    "\n",
    "    fn=None\n",
    "\n",
    "    tout=self.tout\n",
    "    tq = None\n",
    "    chunksize = 1024\n",
    " \n",
    "    while tout > 0 :\n",
    "        rq=self.s.get(self.url+\n",
    "                      ('imageengine-request.php?jid=%d&type=%d' %\n",
    "                        (obs['jid'], 1 if cube else 3 )))\n",
    "\n",
    "        soup = BeautifulSoup(rq.text, 'lxml')\n",
    "        dlif=soup.find('iframe')\n",
    "\n",
    "        try :\n",
    "            dl=dlif.get('src')\n",
    "            rq=self.s.get(self.url+dl,stream=True)\n",
    "            size = int(rq.headers.get('Content-Length', 0))\n",
    "            fn = ('art_%(jid)d.' % obs) + ('fits' if cube else 'zip')\n",
    "\n",
    "            if pbar :\n",
    "                tq = tqdm(desc=fn,       \n",
    "                          total=size,       \n",
    "                          unit=\"B\",       \n",
    "                          unit_scale=True,        \n",
    "                          leave=True,       \n",
    "                          miniters=1)\n",
    "\n",
    "            with open(path.join(directory, fn), 'wb') as fd:\n",
    "                for chunk in rq.iter_content(chunksize):\n",
    "                    fd.write(chunk)\n",
    "                    if tq :\n",
    "                        tq.update(len(chunk))\n",
    "                    \n",
    "            if tq: \n",
    "                tq.close()\n",
    "            return fn\n",
    "        except AttributeError :\n",
    "            tout-=self.retry\n",
    "            log.warning('No data. Sleep for %ds ...'%self.retry)\n",
    "            time.sleep(self.retry)\n",
    "\n",
    "    return None\n",
    "\n"
   ]
  },
  {
   "cell_type": "code",
   "execution_count": null,
   "metadata": {},
   "outputs": [
    {
     "data": {
      "application/vnd.jupyter.widget-view+json": {
       "model_id": "5757c656a58b4b41941b3744bf3494f0",
       "version_major": 2,
       "version_minor": 0
      },
      "text/plain": [
       "art_402772.fits:   0%|          | 0.00/4.73M [00:00<?, ?B/s]"
      ]
     },
     "metadata": {},
     "output_type": "display_data"
    },
    {
     "name": "stdout",
     "output_type": "stream",
     "text": [
      "art_402772.fits\n"
     ]
    },
    {
     "data": {
      "application/vnd.jupyter.widget-view+json": {
       "model_id": "d1a46ced979e4ba99d7b566bd7ce3dbc",
       "version_major": 2,
       "version_minor": 0
      },
      "text/plain": [
       "art_402772.zip:   0%|          | 0.00/3.53M [00:00<?, ?B/s]"
      ]
     },
     "metadata": {},
     "output_type": "display_data"
    },
    {
     "name": "stdout",
     "output_type": "stream",
     "text": [
      "art_402772.zip\n"
     ]
    }
   ],
   "source": [
    "#| login\n",
    "print(scope.download_obs_processed(job, directory='OUT', cube=True, pbar=True))\n",
    "print(scope.download_obs_processed(job, directory='OUT', cube=False, pbar=True))"
   ]
  },
  {
   "cell_type": "code",
   "execution_count": null,
   "metadata": {},
   "outputs": [],
   "source": [
    "#| export\n",
    "@patch\n",
    "def get_obs_processed(self: Telescope, obs=None, cube=False):\n",
    "    '''Get the raw observation obs (obtained from get_job) into zip\n",
    "    file-like object. The function returns ZipFile structure of the\n",
    "    downloaded data.'''\n",
    "\n",
    "    assert(obs is not None)\n",
    "    assert(self.s is not None)\n",
    "    log = logging.getLogger(__name__)\n",
    "\n",
    "    tout=self.tout\n",
    "       \n",
    "    while tout > 0 :\n",
    "        rq=self.s.get(self.url+\n",
    "                      ('imageengine-request.php?jid=%d&type=%d' %\n",
    "                        (obs['jid'], 1 if cube else 3 )))\n",
    "\n",
    "        soup = BeautifulSoup(rq.text,'lxml')\n",
    "        dlif=soup.find('iframe')\n",
    "        try :\n",
    "            dl=dlif.get('src')\n",
    "            rq=self.s.get(self.url+dl,stream=True)\n",
    "            return BytesIO(rq.content) if cube else ZipFile(BytesIO(rq.content))\n",
    "\n",
    "        except AttributeError :\n",
    "            tout-=self.retry\n",
    "            log.warning('No data. Sleep for %ds ...'%self.retry)\n",
    "            time.sleep(self.retry)\n",
    "\n",
    "    return None\n"
   ]
  },
  {
   "cell_type": "code",
   "execution_count": null,
   "metadata": {},
   "outputs": [
    {
     "data": {
      "text/plain": [
       "<_io.BytesIO>"
      ]
     },
     "execution_count": null,
     "metadata": {},
     "output_type": "execute_result"
    }
   ],
   "source": [
    "#| login\n",
    "scope.get_obs_processed(job, cube=True)"
   ]
  },
  {
   "cell_type": "code",
   "execution_count": null,
   "metadata": {},
   "outputs": [
    {
     "data": {
      "text/plain": [
       "<zipfile.ZipFile file=<_io.BytesIO object> mode='r'>"
      ]
     },
     "execution_count": null,
     "metadata": {},
     "output_type": "execute_result"
    }
   ],
   "source": [
    "#| login\n",
    "scope.get_obs_processed(job, cube=False)"
   ]
  },
  {
   "cell_type": "code",
   "execution_count": null,
   "metadata": {},
   "outputs": [],
   "source": []
  }
 ],
 "metadata": {
  "kernelspec": {
   "display_name": "Python 3 (ipykernel)",
   "language": "python",
   "name": "python3"
  }
 },
 "nbformat": 4,
 "nbformat_minor": 4
}
